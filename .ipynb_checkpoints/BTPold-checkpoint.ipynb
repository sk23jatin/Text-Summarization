{
 "cells": [
  {
   "cell_type": "code",
   "execution_count": 65,
   "metadata": {},
   "outputs": [],
   "source": [
    "import pandas as pd\n",
    "import numpy as np\n",
    "import matplotlib.pyplot as plt\n",
    "import seaborn as sns"
   ]
  },
  {
   "cell_type": "code",
   "execution_count": 66,
   "metadata": {},
   "outputs": [
    {
     "name": "stderr",
     "output_type": "stream",
     "text": [
      "[nltk_data] Error loading punkt: <urlopen error [WinError 10060] A\n",
      "[nltk_data]     connection attempt failed because the connected party\n",
      "[nltk_data]     did not properly respond after a period of time, or\n",
      "[nltk_data]     established connection failed because connected host\n",
      "[nltk_data]     has failed to respond>\n"
     ]
    }
   ],
   "source": [
    "import nltk\n",
    "nltk.download('punkt') # one time execution\n",
    "import re"
   ]
  },
  {
   "cell_type": "code",
   "execution_count": 67,
   "metadata": {},
   "outputs": [],
   "source": [
    "data = pd.read_csv(\"tennis_articles_v4.csv\")"
   ]
  },
  {
   "cell_type": "code",
   "execution_count": null,
   "metadata": {},
   "outputs": [],
   "source": []
  },
  {
   "cell_type": "code",
   "execution_count": 68,
   "metadata": {},
   "outputs": [
    {
     "data": {
      "text/html": [
       "<div>\n",
       "<style scoped>\n",
       "    .dataframe tbody tr th:only-of-type {\n",
       "        vertical-align: middle;\n",
       "    }\n",
       "\n",
       "    .dataframe tbody tr th {\n",
       "        vertical-align: top;\n",
       "    }\n",
       "\n",
       "    .dataframe thead th {\n",
       "        text-align: right;\n",
       "    }\n",
       "</style>\n",
       "<table border=\"1\" class=\"dataframe\">\n",
       "  <thead>\n",
       "    <tr style=\"text-align: right;\">\n",
       "      <th></th>\n",
       "      <th>article_id</th>\n",
       "      <th>article_text</th>\n",
       "    </tr>\n",
       "  </thead>\n",
       "  <tbody>\n",
       "    <tr>\n",
       "      <th>0</th>\n",
       "      <td>1</td>\n",
       "      <td>Preksha is reading book.</td>\n",
       "    </tr>\n",
       "    <tr>\n",
       "      <th>1</th>\n",
       "      <td>2</td>\n",
       "      <td>Preksha is watching tv with Jatin</td>\n",
       "    </tr>\n",
       "    <tr>\n",
       "      <th>2</th>\n",
       "      <td>3</td>\n",
       "      <td>Jatin is Watchig tv with Preksha</td>\n",
       "    </tr>\n",
       "    <tr>\n",
       "      <th>3</th>\n",
       "      <td>4</td>\n",
       "      <td>Tv is been watch by preksha and jatin</td>\n",
       "    </tr>\n",
       "    <tr>\n",
       "      <th>4</th>\n",
       "      <td>5</td>\n",
       "      <td>Jatin is playing football.</td>\n",
       "    </tr>\n",
       "  </tbody>\n",
       "</table>\n",
       "</div>"
      ],
      "text/plain": [
       "   article_id                           article_text\n",
       "0           1               Preksha is reading book.\n",
       "1           2      Preksha is watching tv with Jatin\n",
       "2           3       Jatin is Watchig tv with Preksha\n",
       "3           4  Tv is been watch by preksha and jatin\n",
       "4           5             Jatin is playing football."
      ]
     },
     "execution_count": 68,
     "metadata": {},
     "output_type": "execute_result"
    }
   ],
   "source": [
    "data.head()"
   ]
  },
  {
   "cell_type": "code",
   "execution_count": 69,
   "metadata": {},
   "outputs": [],
   "source": [
    "from nltk.tokenize import sent_tokenize\n",
    "sentences = []\n",
    "for s in data['article_text']:\n",
    "    sentences.append(sent_tokenize(s))\n",
    "\n",
    "sentences = [y for x in sentences for y in x] # flatten list"
   ]
  },
  {
   "cell_type": "code",
   "execution_count": 70,
   "metadata": {},
   "outputs": [
    {
     "data": {
      "text/plain": [
       "['Preksha is reading book.',\n",
       " 'Preksha is watching tv with Jatin',\n",
       " 'Jatin is Watchig tv with Preksha',\n",
       " 'Tv is been watch by preksha and jatin',\n",
       " 'Jatin is playing football.']"
      ]
     },
     "execution_count": 70,
     "metadata": {},
     "output_type": "execute_result"
    }
   ],
   "source": [
    "sentences[:6]"
   ]
  },
  {
   "cell_type": "code",
   "execution_count": 71,
   "metadata": {},
   "outputs": [
    {
     "data": {
      "text/plain": [
       "5"
      ]
     },
     "execution_count": 71,
     "metadata": {},
     "output_type": "execute_result"
    }
   ],
   "source": [
    "len(sentences)"
   ]
  },
  {
   "cell_type": "markdown",
   "metadata": {},
   "source": [
    "## Text Preprocessing"
   ]
  },
  {
   "cell_type": "code",
   "execution_count": 72,
   "metadata": {},
   "outputs": [],
   "source": [
    "# remove punctuations, numbers and special characters\n",
    "clean_sentences = pd.Series(sentences).str.replace(\"[^a-zA-Z]\", \" \")\n",
    "\n",
    "# make alphabets lowercase\n",
    "clean_sentences = [s.lower() for s in clean_sentences]"
   ]
  },
  {
   "cell_type": "code",
   "execution_count": 73,
   "metadata": {
    "scrolled": true
   },
   "outputs": [
    {
     "data": {
      "text/plain": [
       "['preksha is reading book ',\n",
       " 'preksha is watching tv with jatin',\n",
       " 'jatin is watchig tv with preksha',\n",
       " 'tv is been watch by preksha and jatin',\n",
       " 'jatin is playing football ']"
      ]
     },
     "execution_count": 73,
     "metadata": {},
     "output_type": "execute_result"
    }
   ],
   "source": [
    "     clean_sentences[:6]"
   ]
  },
  {
   "cell_type": "code",
   "execution_count": 74,
   "metadata": {},
   "outputs": [
    {
     "name": "stdout",
     "output_type": "stream",
     "text": [
      "[['preksha', 'is', 'reading', 'book'], ['preksha', 'is', 'watching', 'tv', 'with', 'jatin'], ['jatin', 'is', 'watchig', 'tv', 'with', 'preksha'], ['tv', 'is', 'been', 'watch', 'by', 'preksha', 'and', 'jatin'], ['jatin', 'is', 'playing', 'football']]\n"
     ]
    }
   ],
   "source": [
    "new_sentences=[]\n",
    "for i in range(0,len(clean_sentences)):\n",
    "    new_sentences.append(clean_sentences[i].split())\n",
    "    \n",
    "print(new_sentences)"
   ]
  },
  {
   "cell_type": "markdown",
   "metadata": {},
   "source": [
    "### Extract distinct words in a document and count"
   ]
  },
  {
   "cell_type": "code",
   "execution_count": 75,
   "metadata": {},
   "outputs": [
    {
     "name": "stdout",
     "output_type": "stream",
     "text": [
      "{'book.', 'Preksha', 'is', 'reading'}\n",
      "4\n",
      "{'Jatin', 'Preksha', 'is', 'with', 'tv', 'watching'}\n",
      "6\n",
      "{'Jatin', 'Preksha', 'is', 'with', 'tv', 'Watchig'}\n",
      "6\n",
      "{'by', 'watch', 'Tv', 'been', 'is', 'preksha', 'jatin', 'and'}\n",
      "8\n",
      "{'Jatin', 'football.', 'is', 'playing'}\n",
      "4\n",
      "Total = 28\n"
     ]
    }
   ],
   "source": [
    "total = 0\n",
    "for s in data['article_text']:\n",
    "    b = s.split()\n",
    "    myset = set(b)\n",
    "    total = total + len(myset)\n",
    "    print(myset)\n",
    "    print(len(myset))\n",
    "print('Total =', total)"
   ]
  },
  {
   "cell_type": "code",
   "execution_count": 76,
   "metadata": {},
   "outputs": [],
   "source": [
    "#!/usr/bin/env python\n",
    "# -*- coding: utf-8 -*-\n",
    "\"\"\"\n",
    "Data:\n",
    "-----\n",
    ".. data:: PARAM_K1 - Free smoothing parameter for BM25.\n",
    ".. data:: PARAM_B - Free smoothing parameter for BM25.\n",
    ".. data:: EPSILON - Constant used for negative idf of document in corpus.\n",
    "\"\"\"\n",
    "\n",
    "\n",
    "import math\n",
    "from six import iteritems\n",
    "from six.moves import xrange\n",
    "\n",
    "\n",
    "PARAM_K1 = 2.5\n",
    "PARAM_B = 0.85\n",
    "EPSILON = 0.2\n",
    "\n",
    "\n",
    "class BM25(object):\n",
    "    \"\"\"Implementation of Best Matching 25 ranking function.\n",
    "    Attributes\n",
    "    ----------\n",
    "    corpus_size : int\n",
    "        Size of corpus (number of documents).\n",
    "    avgdl : float\n",
    "        Average length of document in `corpus`.\n",
    "    corpus : list of list of str\n",
    "        Corpus of documents.\n",
    "    f : list of dicts of int\n",
    "        Dictionary with terms frequencies for each document in `corpus`. Words used as keys and frequencies as values.\n",
    "    df : dict\n",
    "        Dictionary with terms frequencies for whole `corpus`. Words used as keys and frequencies as values.\n",
    "    idf : dict\n",
    "        Dictionary with inversed terms frequencies for whole `corpus`. Words used as keys and frequencies as values.\n",
    "    doc_len : list of int\n",
    "        List of document lengths.\n",
    "    \"\"\"\n",
    "\n",
    "    def __init__(self, corpus):\n",
    "        \"\"\"\n",
    "        Parameters\n",
    "        ----------\n",
    "        corpus : list of list of str\n",
    "            Given corpus.\n",
    "        \"\"\"\n",
    "        self.corpus_size = len(corpus)\n",
    "        self.avgdl = sum(float(len(x)) for x in corpus) / self.corpus_size\n",
    "        self.corpus = corpus\n",
    "        self.f = []\n",
    "        self.df = {}\n",
    "        self.idf = {}\n",
    "        self.doc_len = []\n",
    "        self.initialize()\n",
    "\n",
    "    def initialize(self):\n",
    "        \"\"\"Calculates frequencies of terms in documents and in corpus. Also computes inverse document frequencies.\"\"\"\n",
    "        for document in self.corpus:\n",
    "            frequencies = {}\n",
    "            self.doc_len.append(len(document))\n",
    "            for word in document:\n",
    "                if word not in frequencies:\n",
    "                    frequencies[word] = 0\n",
    "                frequencies[word] += 1\n",
    "            self.f.append(frequencies)\n",
    "\n",
    "            for word, freq in iteritems(frequencies):\n",
    "                if word not in self.df:\n",
    "                    self.df[word] = 0\n",
    "                self.df[word] += 1\n",
    "\n",
    "        for word, freq in iteritems(self.df):\n",
    "            self.idf[word] = math.log(self.corpus_size - freq + 0.5) - math.log(freq + 0.5)\n",
    "\n",
    "    def get_score(self, document, index, average_idf):\n",
    "        \"\"\"Computes BM25 score of given `document` in relation to item of corpus selected by `index`.\n",
    "        Parameters\n",
    "        ----------\n",
    "        document : list of str\n",
    "            Document to be scored.\n",
    "        index : int\n",
    "            Index of document in corpus selected to score with `document`.\n",
    "        average_idf : float\n",
    "            Average idf in corpus.\n",
    "        Returns\n",
    "        -------\n",
    "        float\n",
    "            BM25 score.\n",
    "        \"\"\"\n",
    "        score = 0\n",
    "        for word in document:\n",
    "            if word not in self.f[index]:\n",
    "                continue\n",
    "            idf = self.idf[word] if self.idf[word] >= 0 else EPSILON * average_idf\n",
    "            score += (idf * self.f[index][word] * (PARAM_K1 + 1)\n",
    "                      / (self.f[index][word] + PARAM_K1 * (1 - PARAM_B + PARAM_B * self.doc_len[index] / self.avgdl)))\n",
    "        return score\n",
    "\n",
    "    def get_scores(self, document, average_idf):\n",
    "        \"\"\"Computes and returns BM25 scores of given `document` in relation to\n",
    "        every item in corpus.\n",
    "        Parameters\n",
    "        ----------\n",
    "        document : list of str\n",
    "            Document to be scored.\n",
    "        average_idf : float\n",
    "            Average idf in corpus.\n",
    "        Returns\n",
    "        -------\n",
    "        list of float\n",
    "            BM25 scores.\n",
    "        \"\"\"\n",
    "        scores = []\n",
    "        for index in xrange(self.corpus_size):\n",
    "            score = self.get_score(document, index, average_idf)\n",
    "            scores.append(score)\n",
    "        return scores\n",
    "\n",
    "\n",
    "def get_bm25_weights(corpus):\n",
    "    \"\"\"Returns BM25 scores (weights) of documents in corpus.\n",
    "    Each document has to be weighted with every document in given corpus.\n",
    "    Parameters\n",
    "    ----------\n",
    "    corpus : list of list of str\n",
    "        Corpus of documents.\n",
    "    Returns\n",
    "    -------\n",
    "    list of list of float\n",
    "        BM25 scores.\n",
    "    Examples\n",
    "    --------\n",
    "    >>> from gensim.summarization.bm25 import get_bm25_weights\n",
    "    >>> corpus = [\n",
    "    ...     [\"black\", \"cat\", \"white\", \"cat\"],\n",
    "    ...     [\"cat\", \"outer\", \"space\"],\n",
    "    ...     [\"wag\", \"dog\"]\n",
    "    ... ]\n",
    "    >>> result = get_bm25_weights(corpus)\n",
    "    \"\"\"\n",
    "    bm25 = BM25(corpus)\n",
    "    average_idf = sum(float(val) for val in bm25.idf.values()) / len(bm25.idf)\n",
    "\n",
    "    weights = []\n",
    "    for doc in corpus:\n",
    "        scores = bm25.get_scores(doc, average_idf)\n",
    "        weights.append(scores)\n",
    "    return weights\n"
   ]
  },
  {
   "cell_type": "code",
   "execution_count": 80,
   "metadata": {},
   "outputs": [
    {
     "name": "stderr",
     "output_type": "stream",
     "text": [
      "C:\\Users\\preksha\\Anaconda3\\lib\\site-packages\\gensim\\utils.py:1197: UserWarning: detected Windows; aliasing chunkize to chunkize_serial\n",
      "  warnings.warn(\"detected Windows; aliasing chunkize to chunkize_serial\")\n"
     ]
    }
   ],
   "source": [
    "from gensim.summarization.bm25 import get_bm25_weights\n",
    "corpus = new_sentences\n",
    "result = get_bm25_weights(corpus)"
   ]
  },
  {
   "cell_type": "code",
   "execution_count": 81,
   "metadata": {},
   "outputs": [
    {
     "name": "stdout",
     "output_type": "stream",
     "text": [
      "[[2.7658698497072765, 0.20639917534406257, 0.20639917534406257, 0.1785909032168685, 0.12223229851318457], [0.24446459702636913, 1.8031916623871231, 0.7387922131585045, 0.357181806433737, 0.24446459702636913], [0.24446459702636913, 0.7387922131585045, 1.8031916623871231, 0.357181806433737, 0.24446459702636913], [0.24446459702636913, 0.41279835068812515, 0.41279835068812515, 4.041151157656142, 0.24446459702636913], [0.12223229851318457, 0.20639917534406257, 0.20639917534406257, 0.1785909032168685, 2.7658698497072765]]\n"
     ]
    }
   ],
   "source": [
    "print(result)"
   ]
  },
  {
   "cell_type": "code",
   "execution_count": 77,
   "metadata": {
    "scrolled": true
   },
   "outputs": [],
   "source": [
    "A=get_bm25_weights(new_sentences)"
   ]
  },
  {
   "cell_type": "code",
   "execution_count": 78,
   "metadata": {},
   "outputs": [
    {
     "name": "stdout",
     "output_type": "stream",
     "text": [
      "[[2.8645658005900128, 0.1633429952942938, 0.1633429952942938, 0.13523741918090318, 0.10309766215334283], [0.20619532430668566, 1.7021215258292097, 0.6491728286216327, 0.27047483836180636, 0.20619532430668566], [0.20619532430668566, 0.6491728286216327, 1.7021215258292097, 0.27047483836180636, 0.20619532430668566], [0.20619532430668566, 0.3266859905885876, 0.3266859905885876, 3.75756809470107, 0.20619532430668566], [0.10309766215334283, 0.1633429952942938, 0.1633429952942938, 0.13523741918090318, 2.8645658005900128]]\n"
     ]
    }
   ],
   "source": [
    "print(A)"
   ]
  },
  {
   "cell_type": "code",
   "execution_count": 79,
   "metadata": {},
   "outputs": [
    {
     "data": {
      "image/png": "[encoded data removed]",
      "text/plain": [
       "<Figure size 1080x720 with 2 Axes>"
      ]
     },
     "metadata": {
      "needs_background": "light"
     },
     "output_type": "display_data"
    }
   ],
   "source": [
    "\n",
    "f,ax = plt.subplots(figsize=(15, 10))\n",
    "sns.heatmap(A, annot=True, linewidths=.5, fmt= '.1f',ax=ax, cmap=\"YlGnBu\")\n",
    "\n",
    "plt.show()"
   ]
  },
  {
   "cell_type": "code",
   "execution_count": null,
   "metadata": {},
   "outputs": [],
   "source": []
  },
  {
   "cell_type": "code",
   "execution_count": null,
   "metadata": {},
   "outputs": [],
   "source": []
  },
  {
   "cell_type": "code",
   "execution_count": null,
   "metadata": {},
   "outputs": [],
   "source": []
  },
  {
   "cell_type": "code",
   "execution_count": null,
   "metadata": {},
   "outputs": [],
   "source": []
  },
  {
   "cell_type": "code",
   "execution_count": null,
   "metadata": {},
   "outputs": [],
   "source": []
  },
  {
   "cell_type": "code",
   "execution_count": null,
   "metadata": {},
   "outputs": [],
   "source": []
  },
  {
   "cell_type": "code",
   "execution_count": null,
   "metadata": {},
   "outputs": [],
   "source": []
  },
  {
   "cell_type": "code",
   "execution_count": null,
   "metadata": {},
   "outputs": [],
   "source": []
  },
  {
   "cell_type": "code",
   "execution_count": 110,
   "metadata": {},
   "outputs": [],
   "source": [
    "import sklearn"
   ]
  },
  {
   "cell_type": "code",
   "execution_count": 15,
   "metadata": {},
   "outputs": [],
   "source": [
    "from __future__ import division\n",
    "import sys, os\n",
    "import random\n",
    "import numpy\n",
    "import copy\n",
    "import operator\n",
    "import time\n",
    "import threading\n",
    "import math\n",
    "import pickle\n",
    "import heapq\n",
    "import itertools\n",
    "import random\n",
    "import bisect \n",
    "\n",
    "class Point:\n",
    "    def __init__(self,p,dim,id=-1):\n",
    "        self.coordinates = []\n",
    "        self.pointList = []\n",
    "        self.id = id\n",
    "        self.pointCentroid = 0\n",
    "        for x in range(0,dim):\n",
    "            self.coordinates.append(p[x]);\n",
    "        self.centroid = None\n",
    "\n",
    "class Centroid:\n",
    "    count = 0\n",
    "    def __init__(self,point):\n",
    "        self.point = point\n",
    "        self.count = Centroid.count\n",
    "        self.pointList = []\n",
    "        self.centerPos = []\n",
    "        self.predictions = []\n",
    "        self.centerPos.append(self.point)\n",
    "        self.centroid = None\n",
    "        Centroid.count += 1\n",
    "\n",
    "    def update(self,point):\n",
    "        self.point = point\n",
    "        self.centerPos.append(self.point)\n",
    "\n",
    "    def addPoint(self,point):\n",
    "        self.pointList.append(point)\n",
    "\n",
    "    def removePoint(self,point):\n",
    "        self.pointList.remove(point)\n",
    "\n",
    "\n",
    "class Kmeans:\n",
    "    def __init__(self, k, pointList, kmeansThreshold, centroidsToRemember, initialCentroids = None):\n",
    "        self.pointList = []\n",
    "        self.numPoints = len(pointList)\n",
    "        self.k = k\n",
    "        self.initPointList = []\n",
    "        self.centroidsToRemember = int(k*centroidsToRemember/100)\n",
    "        print (\"Centroids to Remember:\",self.centroidsToRemember)\n",
    "        self.dim = len(pointList[0])\n",
    "        self.kmeansThreshold = kmeansThreshold\n",
    "        self.error = None\n",
    "        self.errorList = []\n",
    "        self.closestClusterDistance = {}\n",
    "        self.centroidDistance = {}\n",
    "\n",
    "        i = 0\n",
    "        for point in pointList:\n",
    "            p = Point(point,self.dim,i)\n",
    "            i += 1\n",
    "            self.pointList.append(p)\n",
    "            self.closestClusterDistance[p.id] = -1\n",
    "            self.centroidDistance[p.id] = []\n",
    "\n",
    "        if initialCentroids != None:\n",
    "            self.centroidList = self.seeds(initialCentroids)\n",
    "        else:\n",
    "            self.centroidList = self.selectSeeds(self.k)\n",
    "        self.mainFunction()\n",
    "\n",
    "    def selectSeeds(self,k):\n",
    "        seeds = random.sample(self.pointList, k)\n",
    "        centroidList = []\n",
    "        for seed in seeds:\n",
    "            centroidList.append(Centroid(seed))\n",
    "        return centroidList\n",
    "\n",
    "    def seeds(self,initList):\n",
    "        centroidList = []\n",
    "        for seed in initList:\n",
    "            centroidList.append(Centroid(seed))\n",
    "        return centroidList\n",
    "\n",
    "    def getDistance(self,point1,point2):\n",
    "        distance = 0\n",
    "        for x in range(0,self.dim):\n",
    "            distance += (point1.coordinates[x]-point2.coordinates[x])**2 \n",
    "        return (distance)**(0.5)\n",
    "\n",
    "    def getCentroidInit(self,point):\n",
    "        minDist = -1\n",
    "        pos = 0\n",
    "        for centroid in self.centroidList:\n",
    "            dist = self.getDistance(point,centroid.point)\n",
    "            if len(self.centroidDistance[point.id]) < self.centroidsToRemember:\n",
    "                bisect.insort(self.centroidDistance[point.id], (dist,pos))\n",
    "            elif self.centroidDistance[point.id][self.centroidsToRemember-1][0] > dist:\n",
    "                bisect.insort(self.centroidDistance[point.id], (dist,pos))\n",
    "                del self.centroidDistance[point.id][self.centroidsToRemember]\n",
    "            if minDist == -1:\n",
    "                minDist = dist\n",
    "                closestCentroid = pos\n",
    "            elif minDist > dist:\n",
    "                minDist = dist\n",
    "                closestCentroid = pos\n",
    "            pos += 1\n",
    "        return (closestCentroid, minDist)\n",
    "\n",
    "    def getCentroid(self,point):\n",
    "        pos = 0\n",
    "        dist = self.getDistance(point,self.centroidList[point.centroid].point)\n",
    "        minDist = dist\n",
    "        closestCentroid = point.centroid\n",
    "        currCentroid =  point.centroid\n",
    "        if self.closestClusterDistance[point.id] < dist:\n",
    "            for x in self.initPointList[point.id]:\n",
    "                centroid = self.centroidList[x]\n",
    "                if x != currCentroid:\n",
    "                    dist = self.getDistance(point,centroid.point)\n",
    "                    if minDist > dist:\n",
    "                        minDist = dist\n",
    "                        closestCentroid = x\n",
    "                pos += 1\n",
    "        else:\n",
    "            self.numChange += 1\n",
    "        self.closestClusterDistance[point.id] = minDist\n",
    "        return (closestCentroid, minDist)\n",
    "\n",
    "\n",
    "    def reCalculateCentroid(self):\n",
    "        pos = 0\n",
    "        for centroid in self.centroidList:\n",
    "            zeroArr = []\n",
    "            for x in range(0,self.dim):\n",
    "                zeroArr.append(0)\n",
    "            mean = Point(zeroArr,self.dim)\n",
    "            for point in centroid.pointList:\n",
    "                for x in range(0,self.dim):\n",
    "                    mean.coordinates[x] += point.coordinates[x]\n",
    "            for x in range(0,self.dim):\n",
    "                try:\n",
    "                    mean.coordinates[x] = mean.coordinates[x]/len(centroid.pointList)\n",
    "                except:\n",
    "                    mean.coordinates[x] = 0\n",
    "            centroid.update(mean)\n",
    "            self.centroidList[pos] = centroid\n",
    "            pos += 1\n",
    "\n",
    "    def assignPointsInit(self):\n",
    "        self.initPointList = {}\n",
    "        for i in range(len(self.pointList)-1,-1,-1):\n",
    "            temp = self.getCentroidInit(self.pointList[i])\n",
    "            self.initPointList[self.pointList[i].id] = []\n",
    "            for l in range(0,self.centroidsToRemember):\n",
    "                self.initPointList[self.pointList[i].id].append(self.centroidDistance[self.pointList[i].id][l][1])\n",
    "            centroidPos = temp[0]\n",
    "            centroidDist = temp[1]\n",
    "            self.closestClusterDistance[self.pointList[i].id] = centroidDist\n",
    "            if self.pointList[i].centroid is None:\n",
    "                self.pointList[i].centroid = centroidPos\n",
    "                self.centroidList[centroidPos].pointList.append(copy.deepcopy(self.pointList[i]))\n",
    "  \n",
    "    def assignPoints(self):\n",
    "        doneMap = {}\n",
    "        self.numChange = 0\n",
    "        for i in range(len(self.centroidList)-1,-1,-1):\n",
    "            for j in range(len(self.centroidList[i].pointList)-1,-1,-1):\n",
    "                try:\n",
    "                    a = doneMap[self.centroidList[i].pointList[j].id]\n",
    "                except:\n",
    "                    doneMap[self.centroidList[i].pointList[j].id] = 1\n",
    "                    temp = self.getCentroid(self.centroidList[i].pointList[j])\n",
    "                    centroidPos = temp[0]\n",
    "                    centroidDist = temp[1]\n",
    "                    if self.centroidList[i].pointList[j].centroid != centroidPos:\n",
    "                        self.centroidList[i].pointList[j].centroid = centroidPos\n",
    "                        self.centroidList[centroidPos].pointList.append(copy.deepcopy(self.centroidList[i].pointList[j]))\n",
    "                        del self.centroidList[i].pointList[j]\n",
    "        print (self.numChange)\n",
    "\n",
    "    def calculateError(self,config):\n",
    "        error = 0\n",
    "        for centroid in self.centroidList:\n",
    "            for point in centroid.pointList:\n",
    "                error += self.getDistance(point,centroid.point)**2\n",
    "        return error\n",
    "\n",
    "\n",
    "\n",
    "    def errorCount(self):\n",
    "        self.t = threading.Timer(0.5, self.errorCount)\n",
    "        self.t.start()\n",
    "        startTime = time.time()\n",
    "        timeStamp = 0\n",
    "        if self.error != None:\n",
    "            timeStamp = math.log(self.error)\n",
    "        endTime = time.time()\n",
    "        self.errorList.append(timeStamp)\n",
    "        self.ti += 0.5\n",
    "\n",
    "    def mainFunction(self):\n",
    "        self.iteration = 1\n",
    "        self.ti = 0.0\n",
    "        self.errorCount()\n",
    "        error1 = 2*self.kmeansThreshold+1\n",
    "        error2 = 0\n",
    "        iterationNo = 0\n",
    "        self.currentTime = time.time()\n",
    "        self.startTime = time.time()\n",
    "        self.assignPointsInit()\n",
    "        print (\"First Step:\",time.time() - self.startTime)\n",
    "        while(abs(error1-error2)) > self.kmeansThreshold:\n",
    "            iterationNo += 1\n",
    "            self.iteration = iterationNo\n",
    "            error1 = self.calculateError(self.centroidList)\n",
    "            self.error = error1\n",
    "            print (\"Iteration:\",iterationNo,\"Error:\",error1)\n",
    "            self.reCalculateCentroid()\n",
    "            self.assignPoints()\n",
    "            error2 = self.calculateError(self.centroidList)\n",
    "            self.error = error2\n",
    "\n",
    "        self.t.cancel()\n",
    "\n",
    "\n",
    "def makeRandomPoint(n, lower, upper):\n",
    "    return numpy.random.normal(loc=upper, size=[lower, n])"
   ]
  },
  {
   "cell_type": "code",
   "execution_count": 17,
   "metadata": {},
   "outputs": [
    {
     "ename": "TypeError",
     "evalue": "__init__() missing 1 required positional argument: 'centroidsToRemember'",
     "output_type": "error",
     "traceback": [
      "\u001b[1;31m---------------------------------------------------------------------------\u001b[0m",
      "\u001b[1;31mTypeError\u001b[0m                                 Traceback (most recent call last)",
      "\u001b[1;32m<ipython-input-17-f27838cc706c>\u001b[0m in \u001b[0;36m<module>\u001b[1;34m\u001b[0m\n\u001b[0;32m     15\u001b[0m \u001b[0mstart\u001b[0m \u001b[1;33m=\u001b[0m \u001b[0mtime\u001b[0m\u001b[1;33m.\u001b[0m\u001b[0mtime\u001b[0m\u001b[1;33m(\u001b[0m\u001b[1;33m)\u001b[0m\u001b[1;33m\u001b[0m\u001b[1;33m\u001b[0m\u001b[0m\n\u001b[0;32m     16\u001b[0m \u001b[1;31m#self, k, pointList, kmeansThreshold, predictionThreshold, isPrediction = 0, initialCentroids = None\u001b[0m\u001b[1;33m\u001b[0m\u001b[1;33m\u001b[0m\u001b[1;33m\u001b[0m\u001b[0m\n\u001b[1;32m---> 17\u001b[1;33m \u001b[0mconfig\u001b[0m\u001b[1;33m=\u001b[0m \u001b[0mKmeans\u001b[0m\u001b[1;33m(\u001b[0m\u001b[0mnumClusters\u001b[0m\u001b[1;33m,\u001b[0m\u001b[0mpointList\u001b[0m\u001b[1;33m,\u001b[0m\u001b[1;36m1000\u001b[0m\u001b[1;33m)\u001b[0m\u001b[1;33m\u001b[0m\u001b[1;33m\u001b[0m\u001b[0m\n\u001b[0m\u001b[0;32m     18\u001b[0m \u001b[0mprint\u001b[0m \u001b[1;33m(\u001b[0m\u001b[1;34m\"Time taken:\"\u001b[0m\u001b[1;33m,\u001b[0m\u001b[0mtime\u001b[0m\u001b[1;33m.\u001b[0m\u001b[0mtime\u001b[0m\u001b[1;33m(\u001b[0m\u001b[1;33m)\u001b[0m \u001b[1;33m-\u001b[0m \u001b[0mstart\u001b[0m\u001b[1;33m)\u001b[0m\u001b[1;33m\u001b[0m\u001b[1;33m\u001b[0m\u001b[0m\n",
      "\u001b[1;31mTypeError\u001b[0m: __init__() missing 1 required positional argument: 'centroidsToRemember'"
     ]
    }
   ],
   "source": [
    "pointList = []\n",
    "x = []\n",
    "y = []\n",
    "c = []\n",
    "numPoints = 10000\n",
    "dim = 10\n",
    "numClusters = 100\n",
    "k = 0\n",
    "for i in range(0,numClusters):\n",
    "    num = int(numPoints/numClusters)\n",
    "    p = makeRandomPoint(dim,num,k)\n",
    "    k += 5\n",
    "    pointList += p.tolist()\n",
    "\n",
    "start = time.time()\n",
    "#self, k, pointList, kmeansThreshold, predictionThreshold, isPrediction = 0, initialCentroids = None\n",
    "config= Kmeans(numClusters,pointList,1000)\n",
    "print (\"Time taken:\",time.time() - start)"
   ]
  },
  {
   "cell_type": "code",
   "execution_count": 18,
   "metadata": {},
   "outputs": [
    {
     "ename": "IndentationError",
     "evalue": "expected an indented block (<ipython-input-18-fef7f69cfe21>, line 30)",
     "output_type": "error",
     "traceback": [
      "\u001b[1;36m  File \u001b[1;32m\"<ipython-input-18-fef7f69cfe21>\"\u001b[1;36m, line \u001b[1;32m30\u001b[0m\n\u001b[1;33m    df = pd.read_csv(file_, index_col = None, header = 0).ix[:,(0,4,10)]\u001b[0m\n\u001b[1;37m     ^\u001b[0m\n\u001b[1;31mIndentationError\u001b[0m\u001b[1;31m:\u001b[0m expected an indented block\n"
     ]
    }
   ],
   "source": [
    "    \n",
    "\n",
    "# coding: utf-8\n",
    "\n",
    "# In[2]:\n",
    "\n",
    "\n",
    "\"\"\"\n",
    "Spyder Editor\n",
    "This is a temporary script file.\n",
    "\"\"\"\n",
    "import csv\n",
    "import math\n",
    "import copy\n",
    "import glob\n",
    "import numpy as np\n",
    "import pandas as pd\n",
    "from scipy import signal\n",
    "import scipy.spatial.distance\n",
    "from itertools import compress\n",
    "from sklearn.preprocessing import scale\n",
    "from sklearn.metrics.pairwise import euclidean_distances\n",
    "\n",
    "inputpath = '/Users/ShihaoZhang/Desktop/华勤投资/stockDayK/new/'\n",
    "\n",
    "#import all the csv files in inputpath\n",
    "allfiles = glob.glob(inputpath +\"*.csv\")\n",
    "temp = []\n",
    "for file_ in allfiles:\n",
    "    df = pd.read_csv(file_, index_col = None, header = 0).ix[:,(0,4,10)]\n",
    "    df = df[np.isfinite(df['CLOSE'])]\n",
    "    df['Price'] = df.ix[:,(1,2)].prod(axis=1)\n",
    "    df = df.ix[:,(0,3)]\n",
    "    df = df.rename(columns = {'Unnamed: 0': 'No_Stock'})\n",
    "    temp.append(df)\n",
    "     \n",
    "A = reduce(lambda x,y: pd.merge(x,y, on='No_Stock'), temp)\n",
    "No_Stock = copy.copy(A.ix[:,0])\n",
    "\n",
    "A = A.drop('No_Stock', 1)\n",
    "\n",
    "smo = pd.rolling_mean(A.T, window=10,center=False).dropna()\n",
    "smo_detr = signal.detrend(smo, axis = 0, type='linear')\n",
    "smo_detr_norm = scale(smo_detr, axis=0, with_mean=True, with_std=True, copy=True)\n",
    "H = smo_detr_norm.T\n",
    "\n",
    "def global_kmeans(H, k, tau):\n",
    "    \n",
    "    D = H.shape[1] #D is the dimensions\n",
    "    #H: the input data set, each row corresponding to an observation\n",
    "    #k: the number of the clusters\n",
    "    #tau is the threshold parameter\n",
    "    ctr = np.mean(H, axis = 0) # when k=1, the centroid of the k-means is colMeans(x)\n",
    "    \n",
    "    for i in range(1, k):\n",
    "        # try every stock point as initial to run k.means, get all the possible results for i-th center\n",
    "        ctr_temp = [k_means(x, H, ctr, tau) for x in list(H)]\n",
    "        ctr_temp = [x for x in ctr_temp if x is not None]#filter all the 'None' element in ctr_temp\n",
    "        \n",
    "        # get every possible \"ctr\" in i-th iteration:\n",
    "        bb = [np.vstack((ctr, x)) for x in ctr_temp]\n",
    "        label_temp = [euclidean_distances(H, x) for x in bb] \n",
    "        comb_lable_1toi = [np.argmin(x, axis = 0) for x in label_temp] # assign lables to every stock point\n",
    "        \n",
    "        # filtering all the unqualified label list\n",
    "        yy = [table(x) for x in comb_lable_1toi]\n",
    "        # \"comb_lable_1toi\" -- each list -- contains assigned label for H corresponding to each poiont\n",
    "        filter_1 = [np.amax(x)==i for x in comb_lable_1toi]\n",
    "        filter_2 = [np.amin(x)>20 for x in yy]\n",
    "        label_filter = [a and b for a, b in zip(filter_1, filter_2)]\n",
    "        bb = list(compress(bb, label_filter))\n",
    "        comb_lable_1toi = list(compress(comb_lable_1toi, label_filter))\n",
    "        \n",
    "        # get the mean of each group\n",
    "        comb_mean_groups = [GroupMean(x) for x in comb_lable_1toi]\n",
    "        #\"comb_mean_groups\" -- each list -- contains the seperate means of each group\n",
    "        mean_all = np.mean(H, axis = 0)\n",
    "        \n",
    "        dd = [np.square(euclidean_distances(x, mean_all)) for x in comb_mean_groups]\n",
    "        \n",
    "        # variance between groups\n",
    "        label_count = [table(x) for x in comb_lable_1toi]\n",
    "        var_btw = [np.sum(np.dot(x, y)) for x, y in zip(label_count, dd)]\n",
    "        print var_btw\n",
    "        ctr = bb[np.argmax(var_btw)]\n",
    "        \n",
    "    overall_d = euclidean_distances(H, ctr) # the final distence between all the centroid and the input data\n",
    "    cluster = np.argmin(overall_d, axis = 0)\n",
    "    \n",
    "    return cluster  \n",
    "\n",
    "\n",
    "def VecMatch(x, want):\n",
    "    #'x' and 'want' are both array-like\n",
    "    #return True if 'want' is contained in 'x'\n",
    "    if(x.ndim == 1):\n",
    "        return np.array_equal(x, want)\n",
    "    else:\n",
    "        return (x == want).all(1).any()\n",
    "\n",
    "def ctr_vstack(x, y):\n",
    "    return np.vstack((y, x))\n",
    "\n",
    "def table(x):\n",
    "    # 'x' is ndarray\n",
    "    # this function is same as the 'table' in R\n",
    "    unique, counts = np.unique(x, return_counts=True)\n",
    "    return counts\n",
    "\n",
    "def GroupMean(x):\n",
    "    # 'x' is ndarray\n",
    "    # return the means of each group in 'x'\n",
    "    x_1 = pd.DataFrame(x, columns = ['label'])\n",
    "    H_1 = pd.DataFrame(H)\n",
    "    a = pd.concat([H_1, x_1], axis = 1)\n",
    "    b = a.pivot_table(values= H_1.columns.values, index='label', aggfunc=np.mean)\n",
    "    return b.as_matrix()\n",
    "\n",
    "\n",
    "# In[3]:\n",
    "\n",
    "def k_means(tk, H, K, tau):\n",
    "    D = H.shape[1]\n",
    "    if(K.ndim == 1):\n",
    "        k = 1\n",
    "    else:\n",
    "        k = K.shape[0]\n",
    "    \n",
    "    if(VecMatch(K, tk)):\n",
    "        tk = None\n",
    "    \n",
    "    else:\n",
    "        DM = euclidean_distances(H, K.reshape(-1,D))\n",
    "        delta = 1\n",
    "        \n",
    "        while(delta >= tau):\n",
    "            dm = euclidean_distances(H, tk.reshape(-1,D))\n",
    "            A = np.hstack((DM,dm))\n",
    "            m = np.argmin(A, axis = 1)\n",
    "            \n",
    "            if(np.amax(m) < k):\n",
    "                tk = None\n",
    "                break\n",
    "                \n",
    "            else:\n",
    "                tk_old = copy.copy(tk)\n",
    "            \n",
    "                tk = np.mean(H[m == k], axis = 0)\n",
    "                delta = math.sqrt(sum(np.square(tk - tk_old)))\n",
    "            \n",
    "    return tk\n",
    "\n",
    "\n",
    "# In[416]:\n",
    "\n",
    "#print k_means(list(H)[1], H, np.mean(H, axis = 0), 0.0001)\n",
    "#print [k_means(x, H, np.mean(H, axis = 0), 0.0001) for x in list(H)]\n",
    "a = global_kmeans(H, 25, 0.0001)\n",
    "d = {'No_Stock': No_Stock, 'Cluster': a}\n",
    "result = pd.DataFrame(data=d)\n",
    "cols = result.columns.tolist()\n",
    "cols = cols[-1:] + cols[:-1]\n",
    "result = result[cols]\n",
    "result.to_csv(\"Clusters.csv\")"
   ]
  },
  {
   "cell_type": "code",
   "execution_count": null,
   "metadata": {},
   "outputs": [],
   "source": []
  }
 ],
 "metadata": {
  "kernelspec": {
   "display_name": "Python 3",
   "language": "python",
   "name": "python3"
  },
  "language_info": {
   "codemirror_mode": {
    "name": "ipython",
    "version": 3
   },
   "file_extension": ".py",
   "mimetype": "text/x-python",
   "name": "python",
   "nbconvert_exporter": "python",
   "pygments_lexer": "ipython3",
   "version": "3.7.4"
  }
 },
 "nbformat": 4,
 "nbformat_minor": 2
}
