{
 "cells": [
  {
   "cell_type": "code",
   "execution_count": 6,
   "metadata": {},
   "outputs": [],
   "source": [
    "from __future__ import print_function\n",
    "from sklearn.datasets import fetch_20newsgroups\n",
    "from sklearn.feature_extraction.text import TfidfVectorizer, CountVectorizer\n",
    "from time import time\n",
    "import numpy as np\n",
    "from sklearn import metrics\n",
    "from sklearn.cluster import KMeans\n",
    "from sklearn.cluster import MiniBatchKMeans\n",
    "import matplotlib.pyplot as plt\n",
    "from mpl_toolkits.mplot3d import Axes3D\n",
    "\n",
    "from time import time\n",
    "import numpy as np\n",
    "import matplotlib.pyplot as plt\n",
    "\n",
    "from sklearn import metrics\n",
    "from sklearn.cluster import KMeans\n",
    "from sklearn.datasets import load_digits\n",
    "from sklearn.decomposition import PCA\n",
    "from sklearn.preprocessing import scale\n",
    "from nltk.tokenize import sent_tokenize, word_tokenize\n",
    "import pandas as pd\n",
    "import numpy as np\n",
    "import matplotlib.pyplot as plt\n",
    "import seaborn as sns\n",
    "import nltk\n",
    "import re\n",
    "from nltk.tokenize import sent_tokenize, word_tokenize\n",
    "from gensim.summarization.bm25 import get_bm25_weights\n",
    "from nltk.stem import PorterStemmer \n",
    "from nltk.corpus import stopwords \n",
    "import sklearn\n",
    "import math\n",
    "from sklearn.cluster import KMeans"
   ]
  },
  {
   "cell_type": "code",
   "execution_count": 7,
   "metadata": {},
   "outputs": [],
   "source": [
    "\n",
    "categories = ['comp.graphics',\n",
    "              'comp.os.ms-windows.misc',\n",
    "              'comp.sys.ibm.pc.hardware',\n",
    "              'comp.sys.mac.hardware',\n",
    "              'rec.autos',\n",
    "              'rec.motorcycles',\n",
    "              'rec.sport.baseball',\n",
    "              'rec.sport.hockey']\n"
   ]
  },
  {
   "cell_type": "code",
   "execution_count": 8,
   "metadata": {},
   "outputs": [],
   "source": [
    "\n",
    "dataset = fetch_20newsgroups(subset = 'all',\n",
    "                             categories = categories,\n",
    "                             shuffle = True,\n",
    "                             random_state = 42)\n",
    "\n"
   ]
  },
  {
   "cell_type": "code",
   "execution_count": 9,
   "metadata": {},
   "outputs": [
    {
     "data": {
      "text/plain": [
       "str"
      ]
     },
     "execution_count": 9,
     "metadata": {},
     "output_type": "execute_result"
    }
   ],
   "source": [
    "type(dataset.data[0])"
   ]
  },
  {
   "cell_type": "code",
   "execution_count": 10,
   "metadata": {},
   "outputs": [],
   "source": [
    "data=dataset.data"
   ]
  },
  {
   "cell_type": "code",
   "execution_count": 11,
   "metadata": {},
   "outputs": [],
   "source": [
    "\n",
    "#splitting the documents into list of sentences.\n",
    "sentences = data\n",
    "\n",
    "# for i in data:\n",
    "#     sub_sentence=[]\n",
    "#     sub_sentence.append(sent_tokenize(i))\n",
    "#     sub_sentence = [y for x in sub_sentence for y in x] # flatten list\n",
    "#     sentences.append(sub_sentence)"
   ]
  },
  {
   "cell_type": "code",
   "execution_count": 12,
   "metadata": {
    "scrolled": true
   },
   "outputs": [
    {
     "data": {
      "text/plain": [
       "(7882,)"
      ]
     },
     "execution_count": 12,
     "metadata": {},
     "output_type": "execute_result"
    }
   ],
   "source": [
    "word_sentence=[]\n",
    "\n",
    "for i in sentences:\n",
    "    word_sentence.append(word_tokenize(i))\n",
    "np.shape(word_sentence)"
   ]
  },
  {
   "cell_type": "code",
   "execution_count": 13,
   "metadata": {},
   "outputs": [],
   "source": [
    "#removal of stop words\n",
    "stop_words = set(stopwords.words('english')) \n",
    "line=[]\n",
    "filtered_sentence=[]\n",
    "\n",
    "for i in word_sentence:\n",
    "    for j in i:\n",
    "        if not j in stop_words:\n",
    "            line.append(j)\n",
    "    filtered_sentence.append(line)\n",
    "    line=[]\n",
    "\n"
   ]
  },
  {
   "cell_type": "code",
   "execution_count": 14,
   "metadata": {},
   "outputs": [],
   "source": [
    "#stemming the words\n",
    "from nltk.stem import PorterStemmer \n",
    "ps = PorterStemmer()\n",
    "stemmed_sentences=[]\n",
    "line=[]\n",
    "for i in filtered_sentence:\n",
    "    for j in i:\n",
    "       line.append(ps.stem(j))\n",
    "    stemmed_sentences.append(line)\n",
    "    line=[]"
   ]
  },
  {
   "cell_type": "code",
   "execution_count": 15,
   "metadata": {},
   "outputs": [],
   "source": [
    "# remove punctuations, numbers and special characters\n",
    "alphabetic_sentences=[]\n",
    "line=[]\n",
    "for i in stemmed_sentences:\n",
    "    line.append(pd.Series(i).str.replace(\"[^a-zA-Z]\", \" \"))\n",
    "    \n",
    "    \n",
    "    alphabetic_sentences.append(line)\n",
    "    line=[]"
   ]
  },
  {
   "cell_type": "code",
   "execution_count": 16,
   "metadata": {},
   "outputs": [
    {
     "data": {
      "text/plain": [
       "(1, 346)"
      ]
     },
     "execution_count": 16,
     "metadata": {},
     "output_type": "execute_result"
    }
   ],
   "source": [
    "np.shape(alphabetic_sentences[0])"
   ]
  },
  {
   "cell_type": "code",
   "execution_count": 17,
   "metadata": {},
   "outputs": [],
   "source": [
    "line = []\n",
    "\n",
    "for i in alphabetic_sentences:\n",
    "   \n",
    "    for j in i:\n",
    "        l=[]\n",
    "        for x in j.values:\n",
    "            if (not x ==' ' ):\n",
    "                l.append(x.lower())\n",
    "        line.append(l)\n"
   ]
  },
  {
   "cell_type": "code",
   "execution_count": 23,
   "metadata": {},
   "outputs": [
    {
     "data": {
      "text/plain": [
       "(7882,)"
      ]
     },
     "execution_count": 23,
     "metadata": {},
     "output_type": "execute_result"
    }
   ],
   "source": [
    "final=[]\n",
    "for i in line:\n",
    "    a=\"\"\n",
    "    for j in i:\n",
    "        a=a + \" \" + j\n",
    "    final.append(a)\n",
    "np.shape(final)"
   ]
  },
  {
   "cell_type": "code",
   "execution_count": 30,
   "metadata": {},
   "outputs": [
    {
     "data": {
      "text/plain": [
       "str"
      ]
     },
     "execution_count": 30,
     "metadata": {},
     "output_type": "execute_result"
    }
   ],
   "source": [
    "type(final[0])"
   ]
  },
  {
   "cell_type": "code",
   "execution_count": null,
   "metadata": {},
   "outputs": [],
   "source": []
  },
  {
   "cell_type": "code",
   "execution_count": null,
   "metadata": {},
   "outputs": [],
   "source": []
  },
  {
   "cell_type": "code",
   "execution_count": null,
   "metadata": {},
   "outputs": [],
   "source": []
  },
  {
   "cell_type": "code",
   "execution_count": null,
   "metadata": {},
   "outputs": [],
   "source": []
  }
 ],
 "metadata": {
  "kernelspec": {
   "display_name": "Python 3",
   "language": "python",
   "name": "python3"
  },
  "language_info": {
   "codemirror_mode": {
    "name": "ipython",
    "version": 3
   },
   "file_extension": ".py",
   "mimetype": "text/x-python",
   "name": "python",
   "nbconvert_exporter": "python",
   "pygments_lexer": "ipython3",
   "version": "3.6.6"
  }
 },
 "nbformat": 4,
 "nbformat_minor": 2
}
