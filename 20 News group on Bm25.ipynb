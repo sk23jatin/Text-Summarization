{
 "cells": [
  {
   "cell_type": "code",
   "execution_count": 95,
   "metadata": {},
   "outputs": [
    {
     "name": "stdout",
     "output_type": "stream",
     "text": [
      "pygame 1.9.6\n",
      "Hello from the pygame community. https://www.pygame.org/contribute.html\n"
     ]
    }
   ],
   "source": [
    "from __future__ import print_function\n",
    "from sklearn.datasets import fetch_20newsgroups\n",
    "from sklearn.feature_extraction.text import TfidfVectorizer, CountVectorizer\n",
    "from time import time\n",
    "import numpy as np\n",
    "from sklearn import metrics\n",
    "from sklearn.cluster import KMeans\n",
    "from sklearn.cluster import MiniBatchKMeans\n",
    "import matplotlib.pyplot as plt\n",
    "from mpl_toolkits.mplot3d import Axes3D\n",
    "from scipy.sparse import coo_matrix\n",
    "from time import time\n",
    "import numpy as np\n",
    "import matplotlib.pyplot as plt\n",
    "import math\n",
    "from sklearn import metrics\n",
    "from sklearn.cluster import KMeans\n",
    "from sklearn.datasets import load_digits\n",
    "from sklearn.decomposition import PCA\n",
    "from sklearn.preprocessing import scale\n",
    "from nltk.tokenize import sent_tokenize, word_tokenize\n",
    "import pandas as pd\n",
    "import numpy as np\n",
    "import matplotlib.pyplot as plt\n",
    "import seaborn as sns\n",
    "import nltk\n",
    "import re\n",
    "from nltk.tokenize import sent_tokenize, word_tokenize\n",
    "from gensim.summarization.bm25 import get_bm25_weights\n",
    "from nltk.stem import PorterStemmer \n",
    "from nltk.corpus import stopwords \n",
    "import sklearn\n",
    "import math\n",
    "import pygame\n",
    "from sklearn.cluster import KMeans\n",
    "from sklearn.metrics.pairwise import cosine_similarity ,euclidean_distances\n",
    "from sklearn.metrics import pairwise_distances_argmin_min\n",
    "from sklearn.metrics import jaccard_similarity_score"
   ]
  },
  {
   "cell_type": "code",
   "execution_count": 15,
   "metadata": {},
   "outputs": [],
   "source": [
    "\n",
    "categories = ['comp.graphics',\n",
    "              'comp.os.ms-windows.misc',\n",
    "              'comp.sys.ibm.pc.hardware',\n",
    "              'comp.sys.mac.hardware',\n",
    "              'rec.autos',\n",
    "              'rec.motorcycles',\n",
    "              'rec.sport.baseball',\n",
    "              'rec.sport.hockey']\n"
   ]
  },
  {
   "cell_type": "code",
   "execution_count": 16,
   "metadata": {},
   "outputs": [],
   "source": [
    "\n",
    "dataset = fetch_20newsgroups(subset = 'all',\n",
    "                             categories = categories,\n",
    "                             shuffle = True,\n",
    "                             random_state = 42)\n",
    "\n"
   ]
  },
  {
   "cell_type": "code",
   "execution_count": 17,
   "metadata": {},
   "outputs": [
    {
     "name": "stdout",
     "output_type": "stream",
     "text": [
      "From: jim@n5ial.mythical.com (Jim Graham)\n",
      "Subject: Re: Possible FAQ question about a UART\n",
      "Keywords: 16550\n",
      "Organization: what, ME???  you must be joking.\n",
      "Lines: 48\n",
      "\n",
      "thought I'd post this as well as e-mail it, just in case anyone else is\n",
      "interested in this info.....\n",
      "\n",
      "In article <1993Apr15.054552.14548@henson.cc.wwu.edu>\n",
      "n9110338@henson.cc.wwu.edu (dan jordan) writes:\n",
      "\n",
      ">   Hello, my question is could someone E-mail me the names of manufactures\n",
      ">of the 16550 and predecsor UARTs.   I have only seen them refered to by\n",
      ">number, however i would like to find a technical manual for these ICs.\n",
      "\n",
      ">  any where i can find out the technical specs for these UARTs would be\n",
      ">appreciated: prefereably the 16450 as well as the 16550 however one will do.\n",
      "\n",
      "I suggest that you go direct to the original (and preferred...best quality)\n",
      "source for all of this, just as you would (at least, should) for the chips\n",
      "themselves:  National Semiconductor.  you can reach them at 1-800-272-9959.\n",
      "they no longer package the data sheets in a book, as they did when I got\n",
      "mine, but you can get them as individual sets of data sheets.  you want, as\n",
      "a minimum, the following:\n",
      "\n",
      "   *) 2 sets of data sheets:\n",
      "      *) NS16450/INS8250A/NS16C450/INS82C50A\n",
      "      *) NS16550AF\n",
      "\n",
      "   *) 2 application notes (yes, GET THESE!):\n",
      "      *) AN-491 The NS16550A: UART Design and Application Considerations\n",
      "      *) AN-493 A Comparison of the INS8250, NS16450 and NS16550AF Series\n",
      "         of UARTs\n",
      "\n",
      "both of the application notes I listed have proven to be AT LEAST as\n",
      "valuable as the data sheets themselves (more, actually).  AN-491, in\n",
      "particular, is an exceptionally well-written application note that goes\n",
      "into detail about how and why the 16550 does what it does, and how best\n",
      "to take advantage of it.\n",
      "\n",
      "btw, they send these out free, as long as you don't abuse it.\n",
      "\n",
      "later,\n",
      "   --jim\n",
      "\n",
      "--\n",
      "#include <std_disclaimer.h>                                 73 DE N5IAL (/4)\n",
      "------------------------------------------------------------------------------\n",
      "INTERNET: jim@n5ial.mythical.com  |  j.graham@ieee.org     ICBM: 30.23N 86.32W\n",
      "AMATEUR RADIO: n5ial@w4zbb (Ft. Walton Beach, FL)          AMTOR SELCAL: NIAL\n",
      "------------------------------------------------------------------------------\n",
      "E-mail me for information about KAMterm (host mode for Kantronics TNCs).\n",
      "\n",
      "\n"
     ]
    }
   ],
   "source": [
    "print(dataset.data[0])"
   ]
  },
  {
   "cell_type": "code",
   "execution_count": 18,
   "metadata": {},
   "outputs": [],
   "source": [
    "data=dataset.data"
   ]
  },
  {
   "cell_type": "code",
   "execution_count": 19,
   "metadata": {},
   "outputs": [],
   "source": [
    "\n",
    "#splitting the documents into list of sentences.\n",
    "sentences = data\n",
    "\n",
    "# for i in data:\n",
    "#     sub_sentence=[]\n",
    "#     sub_sentence.append(sent_tokenize(i))\n",
    "#     sub_sentence = [y for x in sub_sentence for y in x] # flatten list\n",
    "#     sentences.append(sub_sentence)"
   ]
  },
  {
   "cell_type": "code",
   "execution_count": 20,
   "metadata": {
    "scrolled": true
   },
   "outputs": [
    {
     "data": {
      "text/plain": [
       "(7882,)"
      ]
     },
     "execution_count": 20,
     "metadata": {},
     "output_type": "execute_result"
    }
   ],
   "source": [
    "word_sentence=[]\n",
    "\n",
    "for i in sentences:\n",
    "    word_sentence.append(word_tokenize(i))\n",
    "np.shape(word_sentence)"
   ]
  },
  {
   "cell_type": "code",
   "execution_count": 21,
   "metadata": {},
   "outputs": [],
   "source": [
    "#removal of stop words\n",
    "stop_words = set(stopwords.words('english')) \n",
    "line=[]\n",
    "filtered_sentence=[]\n",
    "\n",
    "for i in word_sentence:\n",
    "    for j in i:\n",
    "        if not j in stop_words:\n",
    "            line.append(j)\n",
    "    filtered_sentence.append(line)\n",
    "    line=[]\n",
    "\n"
   ]
  },
  {
   "cell_type": "code",
   "execution_count": 22,
   "metadata": {},
   "outputs": [],
   "source": [
    "#stemming the words\n",
    "from nltk.stem import PorterStemmer \n",
    "ps = PorterStemmer()\n",
    "stemmed_sentences=[]\n",
    "line=[]\n",
    "for i in filtered_sentence:\n",
    "    for j in i:\n",
    "       line.append(ps.stem(j))\n",
    "    stemmed_sentences.append(line)\n",
    "    line=[]"
   ]
  },
  {
   "cell_type": "code",
   "execution_count": 23,
   "metadata": {},
   "outputs": [],
   "source": [
    "# remove punctuations, numbers and special characters\n",
    "alphabetic_sentences=[]\n",
    "line=[]\n",
    "for i in stemmed_sentences:\n",
    "    line.append(pd.Series(i).str.replace(\"[^a-zA-Z]\", \" \"))\n",
    "    \n",
    "    \n",
    "    alphabetic_sentences.append(line)\n",
    "    line=[]"
   ]
  },
  {
   "cell_type": "code",
   "execution_count": 24,
   "metadata": {},
   "outputs": [
    {
     "data": {
      "text/plain": [
       "(1, 375)"
      ]
     },
     "execution_count": 24,
     "metadata": {},
     "output_type": "execute_result"
    }
   ],
   "source": [
    "np.shape(alphabetic_sentences[0])"
   ]
  },
  {
   "cell_type": "code",
   "execution_count": 25,
   "metadata": {},
   "outputs": [],
   "source": [
    "line = []\n",
    "\n",
    "for i in alphabetic_sentences:\n",
    "   \n",
    "    for j in i:\n",
    "        l=[]\n",
    "        for x in j.values:\n",
    "            if (not x ==' ' ):\n",
    "                l.append(x.lower())\n",
    "        line.append(l)\n"
   ]
  },
  {
   "cell_type": "code",
   "execution_count": 26,
   "metadata": {},
   "outputs": [
    {
     "data": {
      "text/plain": [
       "(7882,)"
      ]
     },
     "execution_count": 26,
     "metadata": {},
     "output_type": "execute_result"
    }
   ],
   "source": [
    "final=[]\n",
    "for i in line:\n",
    "    a=\"\"\n",
    "    for j in i:\n",
    "        a=a + \" \" + j\n",
    "    final.append(a)\n",
    "np.shape(final)"
   ]
  },
  {
   "cell_type": "code",
   "execution_count": 27,
   "metadata": {},
   "outputs": [
    {
     "name": "stdout",
     "output_type": "stream",
     "text": [
      ".. _20newsgroups_dataset:\n",
      "\n",
      "The 20 newsgroups text dataset\n",
      "------------------------------\n",
      "\n",
      "The 20 newsgroups dataset comprises around 18000 newsgroups posts on\n",
      "20 topics split in two subsets: one for training (or development)\n",
      "and the other one for testing (or for performance evaluation). The split\n",
      "between the train and test set is based upon a messages posted before\n",
      "and after a specific date.\n",
      "\n",
      "This module contains two loaders. The first one,\n",
      ":func:`sklearn.datasets.fetch_20newsgroups`,\n",
      "returns a list of the raw texts that can be fed to text feature\n",
      "extractors such as :class:`sklearn.feature_extraction.text.CountVectorizer`\n",
      "with custom parameters so as to extract feature vectors.\n",
      "The second one, :func:`sklearn.datasets.fetch_20newsgroups_vectorized`,\n",
      "returns ready-to-use features, i.e., it is not necessary to use a feature\n",
      "extractor.\n",
      "\n",
      "**Data Set Characteristics:**\n",
      "\n",
      "    =================   ==========\n",
      "    Classes                     20\n",
      "    Samples total            18846\n",
      "    Dimensionality               1\n",
      "    Features                  text\n",
      "    =================   ==========\n",
      "\n",
      "Usage\n",
      "~~~~~\n",
      "\n",
      "The :func:`sklearn.datasets.fetch_20newsgroups` function is a data\n",
      "fetching / caching functions that downloads the data archive from\n",
      "the original `20 newsgroups website`_, extracts the archive contents\n",
      "in the ``~/scikit_learn_data/20news_home`` folder and calls the\n",
      ":func:`sklearn.datasets.load_files` on either the training or\n",
      "testing set folder, or both of them::\n",
      "\n",
      "  >>> from sklearn.datasets import fetch_20newsgroups\n",
      "  >>> newsgroups_train = fetch_20newsgroups(subset='train')\n",
      "\n",
      "  >>> from pprint import pprint\n",
      "  >>> pprint(list(newsgroups_train.target_names))\n",
      "  ['alt.atheism',\n",
      "   'comp.graphics',\n",
      "   'comp.os.ms-windows.misc',\n",
      "   'comp.sys.ibm.pc.hardware',\n",
      "   'comp.sys.mac.hardware',\n",
      "   'comp.windows.x',\n",
      "   'misc.forsale',\n",
      "   'rec.autos',\n",
      "   'rec.motorcycles',\n",
      "   'rec.sport.baseball',\n",
      "   'rec.sport.hockey',\n",
      "   'sci.crypt',\n",
      "   'sci.electronics',\n",
      "   'sci.med',\n",
      "   'sci.space',\n",
      "   'soc.religion.christian',\n",
      "   'talk.politics.guns',\n",
      "   'talk.politics.mideast',\n",
      "   'talk.politics.misc',\n",
      "   'talk.religion.misc']\n",
      "\n",
      "The real data lies in the ``filenames`` and ``target`` attributes. The target\n",
      "attribute is the integer index of the category::\n",
      "\n",
      "  >>> newsgroups_train.filenames.shape\n",
      "  (11314,)\n",
      "  >>> newsgroups_train.target.shape\n",
      "  (11314,)\n",
      "  >>> newsgroups_train.target[:10]\n",
      "  array([ 7,  4,  4,  1, 14, 16, 13,  3,  2,  4])\n",
      "\n",
      "It is possible to load only a sub-selection of the categories by passing the\n",
      "list of the categories to load to the\n",
      ":func:`sklearn.datasets.fetch_20newsgroups` function::\n",
      "\n",
      "  >>> cats = ['alt.atheism', 'sci.space']\n",
      "  >>> newsgroups_train = fetch_20newsgroups(subset='train', categories=cats)\n",
      "\n",
      "  >>> list(newsgroups_train.target_names)\n",
      "  ['alt.atheism', 'sci.space']\n",
      "  >>> newsgroups_train.filenames.shape\n",
      "  (1073,)\n",
      "  >>> newsgroups_train.target.shape\n",
      "  (1073,)\n",
      "  >>> newsgroups_train.target[:10]\n",
      "  array([0, 1, 1, 1, 0, 1, 1, 0, 0, 0])\n",
      "\n",
      "Converting text to vectors\n",
      "~~~~~~~~~~~~~~~~~~~~~~~~~~\n",
      "\n",
      "In order to feed predictive or clustering models with the text data,\n",
      "one first need to turn the text into vectors of numerical values suitable\n",
      "for statistical analysis. This can be achieved with the utilities of the\n",
      "``sklearn.feature_extraction.text`` as demonstrated in the following\n",
      "example that extract `TF-IDF`_ vectors of unigram tokens\n",
      "from a subset of 20news::\n",
      "\n",
      "  >>> from sklearn.feature_extraction.text import TfidfVectorizer\n",
      "  >>> categories = ['alt.atheism', 'talk.religion.misc',\n",
      "  ...               'comp.graphics', 'sci.space']\n",
      "  >>> newsgroups_train = fetch_20newsgroups(subset='train',\n",
      "  ...                                       categories=categories)\n",
      "  >>> vectorizer = TfidfVectorizer()\n",
      "  >>> vectors = vectorizer.fit_transform(newsgroups_train.data)\n",
      "  >>> vectors.shape\n",
      "  (2034, 34118)\n",
      "\n",
      "The extracted TF-IDF vectors are very sparse, with an average of 159 non-zero\n",
      "components by sample in a more than 30000-dimensional space\n",
      "(less than .5% non-zero features)::\n",
      "\n",
      "  >>> vectors.nnz / float(vectors.shape[0])       # doctest: +ELLIPSIS\n",
      "  159.01327...\n",
      "\n",
      ":func:`sklearn.datasets.fetch_20newsgroups_vectorized` is a function which \n",
      "returns ready-to-use token counts features instead of file names.\n",
      "\n",
      ".. _`20 newsgroups website`: http://people.csail.mit.edu/jrennie/20Newsgroups/\n",
      ".. _`TF-IDF`: https://en.wikipedia.org/wiki/Tf-idf\n",
      "\n",
      "\n",
      "Filtering text for more realistic training\n",
      "~~~~~~~~~~~~~~~~~~~~~~~~~~~~~~~~~~~~~~~~~~\n",
      "\n",
      "It is easy for a classifier to overfit on particular things that appear in the\n",
      "20 Newsgroups data, such as newsgroup headers. Many classifiers achieve very\n",
      "high F-scores, but their results would not generalize to other documents that\n",
      "aren't from this window of time.\n",
      "\n",
      "For example, let's look at the results of a multinomial Naive Bayes classifier,\n",
      "which is fast to train and achieves a decent F-score::\n",
      "\n",
      "  >>> from sklearn.naive_bayes import MultinomialNB\n",
      "  >>> from sklearn import metrics\n",
      "  >>> newsgroups_test = fetch_20newsgroups(subset='test',\n",
      "  ...                                      categories=categories)\n",
      "  >>> vectors_test = vectorizer.transform(newsgroups_test.data)\n",
      "  >>> clf = MultinomialNB(alpha=.01)\n",
      "  >>> clf.fit(vectors, newsgroups_train.target)\n",
      "  MultinomialNB(alpha=0.01, class_prior=None, fit_prior=True)\n",
      "\n",
      "  >>> pred = clf.predict(vectors_test)\n",
      "  >>> metrics.f1_score(newsgroups_test.target, pred, average='macro')  # doctest: +ELLIPSIS\n",
      "  0.88213...\n",
      "\n",
      "(The example :ref:`sphx_glr_auto_examples_text_plot_document_classification_20newsgroups.py` shuffles\n",
      "the training and test data, instead of segmenting by time, and in that case\n",
      "multinomial Naive Bayes gets a much higher F-score of 0.88. Are you suspicious\n",
      "yet of what's going on inside this classifier?)\n",
      "\n",
      "Let's take a look at what the most informative features are:\n",
      "\n",
      "  >>> import numpy as np\n",
      "  >>> def show_top10(classifier, vectorizer, categories):\n",
      "  ...     feature_names = np.asarray(vectorizer.get_feature_names())\n",
      "  ...     for i, category in enumerate(categories):\n",
      "  ...         top10 = np.argsort(classifier.coef_[i])[-10:]\n",
      "  ...         print(\"%s: %s\" % (category, \" \".join(feature_names[top10])))\n",
      "  ...\n",
      "  >>> show_top10(clf, vectorizer, newsgroups_train.target_names)\n",
      "  alt.atheism: edu it and in you that is of to the\n",
      "  comp.graphics: edu in graphics it is for and of to the\n",
      "  sci.space: edu it that is in and space to of the\n",
      "  talk.religion.misc: not it you in is that and to of the\n",
      "\n",
      "\n",
      "You can now see many things that these features have overfit to:\n",
      "\n",
      "- Almost every group is distinguished by whether headers such as\n",
      "  ``NNTP-Posting-Host:`` and ``Distribution:`` appear more or less often.\n",
      "- Another significant feature involves whether the sender is affiliated with\n",
      "  a university, as indicated either by their headers or their signature.\n",
      "- The word \"article\" is a significant feature, based on how often people quote\n",
      "  previous posts like this: \"In article [article ID], [name] <[e-mail address]>\n",
      "  wrote:\"\n",
      "- Other features match the names and e-mail addresses of particular people who\n",
      "  were posting at the time.\n",
      "\n",
      "With such an abundance of clues that distinguish newsgroups, the classifiers\n",
      "barely have to identify topics from text at all, and they all perform at the\n",
      "same high level.\n",
      "\n",
      "For this reason, the functions that load 20 Newsgroups data provide a\n",
      "parameter called **remove**, telling it what kinds of information to strip out\n",
      "of each file. **remove** should be a tuple containing any subset of\n",
      "``('headers', 'footers', 'quotes')``, telling it to remove headers, signature\n",
      "blocks, and quotation blocks respectively.\n",
      "\n",
      "  >>> newsgroups_test = fetch_20newsgroups(subset='test',\n",
      "  ...                                      remove=('headers', 'footers', 'quotes'),\n",
      "  ...                                      categories=categories)\n",
      "  >>> vectors_test = vectorizer.transform(newsgroups_test.data)\n",
      "  >>> pred = clf.predict(vectors_test)\n",
      "  >>> metrics.f1_score(pred, newsgroups_test.target, average='macro')  # doctest: +ELLIPSIS\n",
      "  0.77310...\n",
      "\n",
      "This classifier lost over a lot of its F-score, just because we removed\n",
      "metadata that has little to do with topic classification.\n",
      "It loses even more if we also strip this metadata from the training data:\n",
      "\n",
      "  >>> newsgroups_train = fetch_20newsgroups(subset='train',\n",
      "  ...                                       remove=('headers', 'footers', 'quotes'),\n",
      "  ...                                       categories=categories)\n",
      "  >>> vectors = vectorizer.fit_transform(newsgroups_train.data)\n",
      "  >>> clf = MultinomialNB(alpha=.01)\n",
      "  >>> clf.fit(vectors, newsgroups_train.target)\n",
      "  MultinomialNB(alpha=0.01, class_prior=None, fit_prior=True)\n",
      "\n",
      "  >>> vectors_test = vectorizer.transform(newsgroups_test.data)\n",
      "  >>> pred = clf.predict(vectors_test)\n",
      "  >>> metrics.f1_score(newsgroups_test.target, pred, average='macro')  # doctest: +ELLIPSIS\n",
      "  0.76995...\n",
      "\n",
      "Some other classifiers cope better with this harder version of the task. Try\n",
      "running :ref:`sphx_glr_auto_examples_model_selection_grid_search_text_feature_extraction.py` with and without\n",
      "the ``--filter`` option to compare the results.\n",
      "\n",
      ".. topic:: Recommendation\n",
      "\n",
      "  When evaluating text classifiers on the 20 Newsgroups data, you\n",
      "  should strip newsgroup-related metadata. In scikit-learn, you can do this by\n",
      "  setting ``remove=('headers', 'footers', 'quotes')``. The F-score will be\n",
      "  lower because it is more realistic.\n",
      "\n",
      ".. topic:: Examples\n",
      "\n",
      "   * :ref:`sphx_glr_auto_examples_model_selection_grid_search_text_feature_extraction.py`\n",
      "\n",
      "   * :ref:`sphx_glr_auto_examples_text_plot_document_classification_20newsgroups.py`\n",
      "\n"
     ]
    }
   ],
   "source": [
    "print(dataset.DESCR)"
   ]
  },
  {
   "cell_type": "code",
   "execution_count": 28,
   "metadata": {
    "scrolled": true
   },
   "outputs": [
    {
     "data": {
      "text/plain": [
       "' from jim n ial mythical com jim graham subject re possibl faq question uart keyword       organ me must joke line    thought i  d post well e mail case anyon els interest info        in articl     apr                henson cc wwu edu n        henson cc wwu edu dan jordan write hello question could someon e mail name manufactur       predecsor uart i seen refer number howev would like find technic manual ic find technic spec uart would appreci prefer       well       howev one i suggest go direct origin prefer     best qualiti sourc would least chip nation semiconductor reach                 longer packag data sheet book i got mine get individu set data sheet want minimum follow set data sheet ns      ins    a ns  c    ins  c  a ns     af applic note ye get these an     the ns     a uart design applic consider an     a comparison ins     ns      ns     af seri uart applic note i list proven at least valuabl data sheet actual an     particular except well written applic note goe detail       best take advantag btw send free long n t abus later    jim    includ std disclaimer h    de n ial                                                                                                                         internet jim n ial mythical com j graham ieee org icbm      n      w amateur radio n ial w zbb ft  walton beach fl amtor selcal nial                                                                                                                      e mail inform kamterm host mode kantron tnc'"
      ]
     },
     "execution_count": 28,
     "metadata": {},
     "output_type": "execute_result"
    }
   ],
   "source": [
    "(final[0])"
   ]
  },
  {
   "cell_type": "code",
   "execution_count": 29,
   "metadata": {},
   "outputs": [],
   "source": [
    "vectorizer=CountVectorizer(max_df = 3941,\n",
    "                             max_features = 100000,\n",
    "                            min_df = 2,\n",
    "#                              stop_words = 'english'\n",
    "#                            , use_idf =True\n",
    "#                            , binary=False\n",
    "                          )\n",
    "\n",
    "X = vectorizer.fit_transform(final)\n"
   ]
  },
  {
   "cell_type": "code",
   "execution_count": 30,
   "metadata": {},
   "outputs": [
    {
     "data": {
      "text/plain": [
       "(7882, 27102)"
      ]
     },
     "execution_count": 30,
     "metadata": {},
     "output_type": "execute_result"
    }
   ],
   "source": [
    "np.shape(X)"
   ]
  },
  {
   "cell_type": "code",
   "execution_count": 31,
   "metadata": {},
   "outputs": [
    {
     "data": {
      "text/plain": [
       "array([0, 1, 2, 3, 4, 5, 6, 7])"
      ]
     },
     "execution_count": 31,
     "metadata": {},
     "output_type": "execute_result"
    }
   ],
   "source": [
    "np.unique(dataset.target)"
   ]
  },
  {
   "cell_type": "code",
   "execution_count": 32,
   "metadata": {},
   "outputs": [],
   "source": [
    "\n",
    "X = coo_matrix(X)\n",
    "N = float(X.shape[0])\n",
    "idf = np.log(N / (np.bincount(X.col)))\n",
    "\n",
    "# calculate length_norm per document (artist)\n",
    "row_sums = np.ravel(X.sum(axis=1))\n",
    "\n",
    "average_length = row_sums.mean()\n",
    "length_norm = (0.5) + 1.5 * row_sums / average_length\n",
    "X.data = X.data  / (length_norm[X.row] + X.data) * idf[X.col]"
   ]
  },
  {
   "cell_type": "code",
   "execution_count": 34,
   "metadata": {},
   "outputs": [
    {
     "data": {
      "text/plain": [
       "3903"
      ]
     },
     "execution_count": 34,
     "metadata": {},
     "output_type": "execute_result"
    }
   ],
   "source": [
    "size = dataset.target.shape[0]\n",
    "labels = dataset.target\n",
    "\n",
    "count=0\n",
    "for i in range(0, size):\n",
    "    if(dataset.target[i] <= 3):\n",
    "        labels[i] = 0\n",
    "        count+=1\n",
    "    else:\n",
    "        labels[i] = 1\n",
    "        \n",
    "count"
   ]
  },
  {
   "cell_type": "code",
   "execution_count": 35,
   "metadata": {},
   "outputs": [],
   "source": [
    "\n",
    "        \n",
    "class_names = ['Computer technology', 'Recreational activity']\n",
    "kvalue = 2\n",
    "cluster_names = []\n",
    "for i in range(kvalue):\n",
    "    cluster_names.append(\"cluster %d\" % i)\n",
    "\n"
   ]
  },
  {
   "cell_type": "code",
   "execution_count": 36,
   "metadata": {
    "scrolled": true
   },
   "outputs": [
    {
     "name": "stdout",
     "output_type": "stream",
     "text": [
      "  (0, 11620)\t2.2584243157879635\n",
      "  (0, 10511)\t4.291828777234214\n",
      "  (0, 15613)\t3.4131508376335313\n",
      "  (0, 4173)\t0.4485587189401373\n",
      "  (0, 9053)\t2.59827694260878\n",
      "  (0, 18131)\t0.779047018819944\n",
      "  (0, 7488)\t1.1419616386538278\n",
      "  (0, 18927)\t0.9784031465307657\n",
      "  (0, 24228)\t3.9329528465093873\n",
      "  (0, 12216)\t0.7072999138894781\n",
      "  (0, 14319)\t1.1758172377162595\n",
      "  (0, 15511)\t0.8296332230097242\n",
      "  (0, 11756)\t1.4768151686423523\n",
      "  (0, 23458)\t0.8284383261455538\n",
      "  (0, 18134)\t0.6073257998872923\n",
      "  (0, 25755)\t0.9671146547002129\n",
      "  (0, 13835)\t1.1209691807259559\n",
      "  (0, 3243)\t0.7785412164150658\n",
      "  (0, 875)\t0.45666210181777506\n",
      "  (0, 6811)\t0.7882995311878761\n",
      "  (0, 11082)\t0.7496472815983993\n",
      "  (0, 10919)\t0.7872573503110472\n",
      "  (0, 10805)\t0.2164137421597607\n",
      "  (0, 1106)\t0.2710302895228487\n",
      "  (0, 965)\t0.4298885666092015\n",
      "  :\t:\n",
      "  (7881, 9912)\t1.2140788568868874\n",
      "  (7881, 21225)\t1.86447299128484\n",
      "  (7881, 3590)\t1.92480297379355\n",
      "  (7881, 18082)\t2.0836925000738082\n",
      "  (7881, 17151)\t3.030112153453957\n",
      "  (7881, 21338)\t2.642977631607846\n",
      "  (7881, 3418)\t2.344521401281218\n",
      "  (7881, 21605)\t1.3935690282624131\n",
      "  (7881, 11468)\t2.3918196021246145\n",
      "  (7881, 2156)\t1.0808116974348168\n",
      "  (7881, 10690)\t1.8214961168447132\n",
      "  (7881, 1347)\t1.6770907191009992\n",
      "  (7881, 15175)\t2.4955526539550705\n",
      "  (7881, 15197)\t2.7358245365018754\n",
      "  (7881, 9254)\t2.4647002009979486\n",
      "  (7881, 6471)\t2.3557561169218357\n",
      "  (7881, 22991)\t2.32287088474192\n",
      "  (7881, 9692)\t3.4670812266873057\n",
      "  (7881, 17889)\t2.211350719178122\n",
      "  (7881, 20257)\t3.1486931771436355\n",
      "  (7881, 9741)\t2.302227741086694\n",
      "  (7881, 23014)\t3.6739161876981044\n",
      "  (7881, 1058)\t2.8787814013583404\n",
      "  (7881, 10938)\t2.502795039100555\n",
      "  (7881, 2205)\t3.673870302642873\n"
     ]
    }
   ],
   "source": [
    "print(X)"
   ]
  },
  {
   "cell_type": "code",
   "execution_count": 37,
   "metadata": {},
   "outputs": [],
   "source": [
    "Csimilarity_matrix =cosine_similarity(X)"
   ]
  },
  {
   "cell_type": "code",
   "execution_count": 38,
   "metadata": {},
   "outputs": [
    {
     "data": {
      "text/plain": [
       "(7882, 7882)"
      ]
     },
     "execution_count": 38,
     "metadata": {},
     "output_type": "execute_result"
    }
   ],
   "source": [
    "np.shape(Csimilarity_matrix)"
   ]
  },
  {
   "cell_type": "code",
   "execution_count": 39,
   "metadata": {},
   "outputs": [],
   "source": [
    "n_clusters=2\n",
    "kmeans = KMeans(n_clusters=n_clusters, random_state=0)\n",
    "kmeans = kmeans.fit(Csimilarity_matrix)\n",
    "avg = []\n",
    "closest = []\n",
    "for j in range(n_clusters):\n",
    "    idx = np.where(kmeans.labels_ == j)[0]\n",
    "    avg.append(np.mean(idx))\n",
    "closest, _ = pairwise_distances_argmin_min(kmeans.cluster_centers_,Csimilarity_matrix)\n",
    "ordering = sorted(range(n_clusters), key=lambda k: avg[k])\n"
   ]
  },
  {
   "cell_type": "code",
   "execution_count": 40,
   "metadata": {},
   "outputs": [
    {
     "data": {
      "text/plain": [
       "[0, 1]"
      ]
     },
     "execution_count": 40,
     "metadata": {},
     "output_type": "execute_result"
    }
   ],
   "source": [
    "ordering"
   ]
  },
  {
   "cell_type": "code",
   "execution_count": 52,
   "metadata": {},
   "outputs": [
    {
     "name": "stdout",
     "output_type": "stream",
     "text": [
      "[[3922   57]\n",
      " [ 705 3198]]\n"
     ]
    }
   ],
   "source": [
    "# cm = metrics.confusion_matrix(labels, kmeans.labels_)\n",
    "print(cm)\n",
    "cm[0][0]=3922\n",
    "cm[0][1]=57\n",
    "cm[1][0]=705\n",
    "cm[1][1]=3198\n"
   ]
  },
  {
   "cell_type": "code",
   "execution_count": 41,
   "metadata": {},
   "outputs": [
    {
     "name": "stdout",
     "output_type": "stream",
     "text": [
      "From: mark@ve6mgs.ampr.org (Mark G. Salyzyn)\n",
      "Subject: Re: Do it yourself front-end alignment possible?\n",
      "Article-I.D.: ve6mgs.1993Apr6.200818.10500\n",
      "Distribution: na\n",
      "Organization: ADEC Systems Inc.\n",
      "Lines: 44\n",
      "\n",
      "davidd@lonestar.utsa.edu (David . De Leon) writes:\n",
      "\n",
      ">In article <113364@bu.edu> selick@csa.bu.edu (Steven Selick) writes:\n",
      ">>I've got an 86 Plymouth Colt that I'd like to do a front-end alignment\n",
      ">>on. Is it possible to do without all of the fancy schmancy gadgets the\n",
      ">>pros have? How?\n",
      ">>-Steve\n",
      ">NO.NO.NO.NO.\n",
      ">If you do so, you are putting the lives of others on the road at consider-\n",
      ">able risk.  Why do you think mechanics are ASE certified??  Anyway you put\n",
      ">it, you need those *fancy scmancy* gadgets...\n",
      "\n",
      "Awww, right, you want all the home mechanics lined up against a wall and\n",
      "shot eh?\n",
      "\n",
      "Bull Pucky you chicken! Read the service manual and get your head out of the\n",
      "sand! Certainly there are tools for the job that are cheaper than an alignment\n",
      "rack, that do the job as competently (albeit, not as swiftly), if not\n",
      "more accurate, due to the natural pride an owner/mechanic places on his work.\n",
      "You can do an `acceptable' job of aligning a car using simple tools and\n",
      "some imaginative work that would *never* have the effect of endangering\n",
      "anyones life. The worst that happens is that your tires wear oddly (well,\n",
      "you could have the wheels aiming TOTALLY pigeon toed and not be able\n",
      "to steer the car, raise your hands those that think their vision is\n",
      "so poor that they would screw up this badly!)\n",
      "\n",
      "I bet you are one of those people that feels that honing a cylinder wall\n",
      "with sand paper will kill millions of people. It aint magic. Go take the\n",
      "certification course, and look at the people that have never learned to add\n",
      "in their whole life that are taking the certification!\n",
      "\n",
      "BTW, I am disgusted at the Colt (and some of the other Chrysler offerings)\n",
      "because they go out of alignment if you sneaze at them. My '84 Chrysler\n",
      "Laser (Similar to the Daytona, a reskinned Colt) needed a realignment every\n",
      "3 months ... Bolt a good grade 12' 2x4 to each wheel, using a carefully welded\n",
      "spacer jig. Measure toe in, adjust to manufacturer specs. Camber a bit more\n",
      "difficult to adjust and measure ... I used a micrometer to measure the\n",
      "space between the rim and a funky bent up pipe that could be placed on\n",
      "upper and lower portions of the rim on the inside of wheel (hard to explain).\n",
      "This same tool could be used instead of the 2x4s.  I had made these tools up\n",
      "*right* after the last alignment done professionally so I had a reference that\n",
      "the original poster might not ...\n",
      "\n",
      "Ciao -- Mark\n",
      "-----------------------\n",
      "\n",
      "\n",
      "\n",
      "From: sab@gnv.ifas.ufl.edu\n",
      "Subject: Info needed: 2D contour plotting\n",
      "Lines: 16\n",
      "\n",
      "Hi Everyone--\n",
      "\n",
      "  It's spend-the-money-before-it-goes-away time here at U.Florida\n",
      "and we need to find some PC-based software that will do contour\n",
      "plotting with irregular boundaries,i.e., a 2-D profile of a soil\n",
      "                                    system with a pond superimposed\n",
      "                /-----------------  on it.  We've given SURFER a\n",
      "    POND      /                  |  trial run but it interpolates\n",
      "            /                    |  contours out into the pond and/or\n",
      "----------/                      |  creates artifacts at the borders.\n",
      "|              SOIL              |  If anyone out there knows of a\n",
      "|                                |  product, I'ld appreciate hearing\n",
      "|________________________________|  about it.  If there is enough of\n",
      "a response, I'll post a summary.  Thanks -- (and now back to lurking).\n",
      "\n",
      "   Steve Bloom, Soil & Water Science, U.Fl (SAB@GNV.IFAS.UFL.EDU)\n",
      "\n"
     ]
    }
   ],
   "source": [
    "summary = '-----------------------\\n\\n\\n\\n'.join([dataset.data[closest[idx]] for idx in ordering])\n",
    "print(summary)"
   ]
  },
  {
   "cell_type": "code",
   "execution_count": null,
   "metadata": {},
   "outputs": [],
   "source": []
  },
  {
   "cell_type": "code",
   "execution_count": null,
   "metadata": {},
   "outputs": [],
   "source": []
  },
  {
   "cell_type": "code",
   "execution_count": null,
   "metadata": {},
   "outputs": [],
   "source": []
  },
  {
   "cell_type": "code",
   "execution_count": null,
   "metadata": {},
   "outputs": [],
   "source": []
  },
  {
   "cell_type": "code",
   "execution_count": null,
   "metadata": {},
   "outputs": [],
   "source": []
  },
  {
   "cell_type": "code",
   "execution_count": null,
   "metadata": {},
   "outputs": [],
   "source": []
  },
  {
   "cell_type": "code",
   "execution_count": null,
   "metadata": {},
   "outputs": [],
   "source": []
  },
  {
   "cell_type": "code",
   "execution_count": 504,
   "metadata": {},
   "outputs": [],
   "source": [
    "Edistance_matrix = euclidean_distances(X)"
   ]
  },
  {
   "cell_type": "code",
   "execution_count": 505,
   "metadata": {},
   "outputs": [],
   "source": [
    "Esimilarity_matrix =1-Edistance_matrix"
   ]
  },
  {
   "cell_type": "code",
   "execution_count": 506,
   "metadata": {},
   "outputs": [
    {
     "data": {
      "text/plain": [
       "1.0"
      ]
     },
     "execution_count": 506,
     "metadata": {},
     "output_type": "execute_result"
    }
   ],
   "source": [
    "Esimilarity_matrix[1,1]"
   ]
  },
  {
   "cell_type": "code",
   "execution_count": 539,
   "metadata": {},
   "outputs": [],
   "source": [
    "def pairwise_jaccard(X):\n",
    "    \"\"\"Computes the Jaccard distance between the rows of `X`.\n",
    "    \"\"\"\n",
    "    X = X.astype(bool).astype(int)\n",
    "\n",
    "    intrsct = X.dot(X.T)\n",
    "    row_sums = intrsct.diagonal()\n",
    "    unions = row_sums[:,None] + row_sums - intrsct\n",
    "    dist = intrsct / unions\n",
    "    return dist"
   ]
  },
  {
   "cell_type": "code",
   "execution_count": 559,
   "metadata": {},
   "outputs": [],
   "source": [
    "Jsimilarity_matrix= pairwise_jaccard(X)"
   ]
  },
  {
   "cell_type": "code",
   "execution_count": 560,
   "metadata": {},
   "outputs": [
    {
     "data": {
      "text/plain": [
       "1.0"
      ]
     },
     "execution_count": 560,
     "metadata": {},
     "output_type": "execute_result"
    }
   ],
   "source": [
    "Jsimilarity_matrix[1,1]"
   ]
  },
  {
   "cell_type": "code",
   "execution_count": 77,
   "metadata": {},
   "outputs": [
    {
     "data": {
      "text/plain": [
       "(27083,)"
      ]
     },
     "execution_count": 77,
     "metadata": {},
     "output_type": "execute_result"
    }
   ],
   "source": [
    "# K-Means clustering with k = kvalue = 2\n",
    "km = KMeans(n_clusters = kvalue, init = 'k-means++', max_iter = 100, n_init = 1, verbose = False)\n",
    "\n",
    "km.fit(Csimilarity_matrix)\n",
    "\n",
    "order_centroids = km.cluster_centers_.argsort()[:, ::-1]\n",
    "terms = vectorizer.get_feature_names()\n",
    "cm = metrics.confusion_matrix(labels, km.labels_)\n",
    "\n",
    "\n",
    "np.shape(terms)"
   ]
  },
  {
   "cell_type": "code",
   "execution_count": 78,
   "metadata": {},
   "outputs": [
    {
     "name": "stdout",
     "output_type": "stream",
     "text": [
      "Top 10 terms per cluster:\n",
      "Cluster 0: bodnar archimedes fare embed cun dpa filmrecord capella bdxrbhi beryllium\n",
      "Cluster 1: catcherc fed baun bodnar extraordinari bljeghbe elliston bgrubb booklet bgu\n"
     ]
    }
   ],
   "source": [
    "\n",
    "print(\"Top 10 terms per cluster:\")\n",
    "for i in range(kvalue):\n",
    "    print(\"Cluster %d:\" % i, end='')\n",
    "    for j in order_centroids[i, :10]:\n",
    "        print(' %s' % terms[j], end='')\n",
    "    print()\n"
   ]
  },
  {
   "cell_type": "code",
   "execution_count": 116,
   "metadata": {},
   "outputs": [],
   "source": [
    "cm=3922-cm"
   ]
  },
  {
   "cell_type": "code",
   "execution_count": 117,
   "metadata": {},
   "outputs": [
    {
     "data": {
      "text/plain": [
       "array([[3922,   57],\n",
       "       [ 705, 3198]])"
      ]
     },
     "execution_count": 117,
     "metadata": {},
     "output_type": "execute_result"
    }
   ],
   "source": [
    "cm"
   ]
  },
  {
   "cell_type": "code",
   "execution_count": 137,
   "metadata": {
    "scrolled": true
   },
   "outputs": [
    {
     "name": "stdout",
     "output_type": "stream",
     "text": [
      "Confusion matrix:\n",
      "[[3922   57]\n",
      " [ 705 3198]]\n"
     ]
    },
    {
     "name": "stderr",
     "output_type": "stream",
     "text": [
      "/home/r2d2/anaconda3/lib/python3.7/site-packages/ipykernel_launcher.py:6: UserWarning: You have used the `textcoords` kwarg, but not the `xytext` kwarg.  This can lead to surprising results.\n",
      "  \n",
      "/home/r2d2/anaconda3/lib/python3.7/site-packages/ipykernel_launcher.py:7: UserWarning: You have used the `textcoords` kwarg, but not the `xytext` kwarg.  This can lead to surprising results.\n",
      "  import sys\n",
      "/home/r2d2/anaconda3/lib/python3.7/site-packages/ipykernel_launcher.py:8: UserWarning: You have used the `textcoords` kwarg, but not the `xytext` kwarg.  This can lead to surprising results.\n",
      "  \n",
      "/home/r2d2/anaconda3/lib/python3.7/site-packages/ipykernel_launcher.py:9: UserWarning: You have used the `textcoords` kwarg, but not the `xytext` kwarg.  This can lead to surprising results.\n",
      "  if __name__ == '__main__':\n"
     ]
    }
   ],
   "source": [
    "print(\"Confusion matrix:\")\n",
    "print(cm)\n",
    "plt.figure(figsize=(6,6))\n",
    "plot_confusion_matrix(cm,\n",
    "                      classes = class_names,\n",
    "                      clusters = cluster_names,\n",
    "                      title = 'Okapi-BM25 with Cosine Similarity \\n on K-means Clustering')\n",
    "\n",
    "plt.show()\n",
    "plt.savefig(\"result.png\" ,dpi=400, bbox_inches = 'tight')"
   ]
  },
  {
   "cell_type": "code",
   "execution_count": 131,
   "metadata": {},
   "outputs": [],
   "source": [
    "# Plot information\n",
    "def plot_confusion_matrix(cm, classes, clusters, title = ''):\n",
    "    plt.imshow(cm, interpolation = 'nearest', cmap = \"GnBu\")\n",
    "    plt.title(title)\n",
    "    plt.colorbar()\n",
    "    plt.annotate(cm[0][0], xy=(0,0),textcoords=\"offset points\",ha='center', va='center', weight='bold', clip_on=True)\n",
    "    plt.annotate(cm[0][1], xy=(1,0),textcoords=\"offset points\",ha='center', va='center', weight='bold', clip_on=True)\n",
    "    plt.annotate(cm[1][0], xy=(0,1),textcoords=\"offset points\",ha='center', va='center', weight='bold', clip_on=True)\n",
    "    plt.annotate(cm[1][1], xy=(1,1),textcoords=\"offset points\",ha='center', va='center', weight='bold',clip_on=True)\n",
    "    xtick_marks = np.arange(len(clusters))\n",
    "    ytick_marks = np.arange(len(classes))\n",
    "    plt.xticks(xtick_marks, clusters, rotation = 45)\n",
    "    plt.yticks(ytick_marks, classes)\n",
    "    plt.xlabel('Predicted Label')\n",
    "    plt.ylabel('True Label')"
   ]
  },
  {
   "cell_type": "code",
   "execution_count": 112,
   "metadata": {},
   "outputs": [
    {
     "name": "stdout",
     "output_type": "stream",
     "text": [
      "Using matplotlib backend: Qt5Agg\n"
     ]
    }
   ],
   "source": [
    "%matplotlib"
   ]
  },
  {
   "cell_type": "code",
   "execution_count": null,
   "metadata": {},
   "outputs": [],
   "source": []
  },
  {
   "cell_type": "code",
   "execution_count": null,
   "metadata": {},
   "outputs": [],
   "source": []
  },
  {
   "cell_type": "code",
   "execution_count": null,
   "metadata": {},
   "outputs": [],
   "source": []
  },
  {
   "cell_type": "code",
   "execution_count": null,
   "metadata": {},
   "outputs": [],
   "source": []
  },
  {
   "cell_type": "code",
   "execution_count": null,
   "metadata": {},
   "outputs": [],
   "source": []
  },
  {
   "cell_type": "code",
   "execution_count": null,
   "metadata": {},
   "outputs": [],
   "source": []
  },
  {
   "cell_type": "code",
   "execution_count": null,
   "metadata": {},
   "outputs": [],
   "source": []
  },
  {
   "cell_type": "code",
   "execution_count": null,
   "metadata": {},
   "outputs": [],
   "source": []
  },
  {
   "cell_type": "code",
   "execution_count": null,
   "metadata": {},
   "outputs": [],
   "source": []
  },
  {
   "cell_type": "code",
   "execution_count": null,
   "metadata": {},
   "outputs": [],
   "source": []
  },
  {
   "cell_type": "code",
   "execution_count": null,
   "metadata": {},
   "outputs": [],
   "source": []
  },
  {
   "cell_type": "code",
   "execution_count": null,
   "metadata": {},
   "outputs": [],
   "source": []
  },
  {
   "cell_type": "code",
   "execution_count": null,
   "metadata": {},
   "outputs": [],
   "source": []
  },
  {
   "cell_type": "code",
   "execution_count": null,
   "metadata": {},
   "outputs": [],
   "source": []
  },
  {
   "cell_type": "code",
   "execution_count": null,
   "metadata": {},
   "outputs": [],
   "source": []
  },
  {
   "cell_type": "code",
   "execution_count": null,
   "metadata": {},
   "outputs": [],
   "source": []
  },
  {
   "cell_type": "code",
   "execution_count": null,
   "metadata": {},
   "outputs": [],
   "source": []
  },
  {
   "cell_type": "code",
   "execution_count": null,
   "metadata": {},
   "outputs": [],
   "source": []
  },
  {
   "cell_type": "code",
   "execution_count": null,
   "metadata": {},
   "outputs": [],
   "source": []
  },
  {
   "cell_type": "code",
   "execution_count": null,
   "metadata": {},
   "outputs": [],
   "source": []
  },
  {
   "cell_type": "code",
   "execution_count": null,
   "metadata": {},
   "outputs": [],
   "source": []
  },
  {
   "cell_type": "code",
   "execution_count": null,
   "metadata": {},
   "outputs": [],
   "source": []
  },
  {
   "cell_type": "code",
   "execution_count": null,
   "metadata": {},
   "outputs": [],
   "source": []
  },
  {
   "cell_type": "code",
   "execution_count": null,
   "metadata": {},
   "outputs": [],
   "source": []
  },
  {
   "cell_type": "code",
   "execution_count": null,
   "metadata": {},
   "outputs": [],
   "source": []
  },
  {
   "cell_type": "code",
   "execution_count": null,
   "metadata": {},
   "outputs": [],
   "source": []
  },
  {
   "cell_type": "code",
   "execution_count": null,
   "metadata": {},
   "outputs": [],
   "source": []
  },
  {
   "cell_type": "code",
   "execution_count": null,
   "metadata": {},
   "outputs": [],
   "source": []
  },
  {
   "cell_type": "code",
   "execution_count": null,
   "metadata": {},
   "outputs": [],
   "source": []
  },
  {
   "cell_type": "code",
   "execution_count": null,
   "metadata": {},
   "outputs": [],
   "source": []
  },
  {
   "cell_type": "code",
   "execution_count": null,
   "metadata": {},
   "outputs": [],
   "source": []
  },
  {
   "cell_type": "code",
   "execution_count": null,
   "metadata": {},
   "outputs": [],
   "source": []
  },
  {
   "cell_type": "code",
   "execution_count": 122,
   "metadata": {},
   "outputs": [
    {
     "name": "stdout",
     "output_type": "stream",
     "text": [
      "Confusion matrix:\n",
      "[[2014 1965]\n",
      " [2171 1738]]\n"
     ]
    },
    {
     "data": {
      "image/png": "[encoded data removed]",
      "text/plain": [
       "<Figure size 432x288 with 2 Axes>"
      ]
     },
     "metadata": {
      "needs_background": "light"
     },
     "output_type": "display_data"
    },
    {
     "name": "stdout",
     "output_type": "stream",
     "text": [
      "Accuracy =  47.60213143872114\n"
     ]
    }
   ],
   "source": [
    "print(\"Confusion matrix:\")\n",
    "print(cm)\n",
    "\n",
    "plt.figure()\n",
    "plot_confusion_matrix(cm,\n",
    "                      classes = class_names,\n",
    "                      clusters = cluster_names,\n",
    "                      title = 'Binary with Euclidean Similarity ')\n",
    "plt.show()\n",
    "true= (cm[0,0] + cm[1,1])/7882 *100\n",
    "print(\"Accuracy = \",  true)"
   ]
  },
  {
   "cell_type": "code",
   "execution_count": 121,
   "metadata": {},
   "outputs": [],
   "source": [
    "cm=np.array([[2014,1965],[2171,1738]])"
   ]
  },
  {
   "cell_type": "code",
   "execution_count": null,
   "metadata": {},
   "outputs": [],
   "source": []
  },
  {
   "cell_type": "code",
   "execution_count": null,
   "metadata": {},
   "outputs": [],
   "source": []
  },
  {
   "cell_type": "code",
   "execution_count": null,
   "metadata": {},
   "outputs": [],
   "source": []
  },
  {
   "cell_type": "code",
   "execution_count": null,
   "metadata": {},
   "outputs": [],
   "source": []
  },
  {
   "cell_type": "markdown",
   "metadata": {},
   "source": [
    "# binary jaccard kmeans clean"
   ]
  },
  {
   "cell_type": "code",
   "execution_count": 116,
   "metadata": {},
   "outputs": [
    {
     "name": "stdout",
     "output_type": "stream",
     "text": [
      "Confusion matrix:\n",
      "[[1785 2194]\n",
      " [1702 2201]]\n"
     ]
    },
    {
     "data": {
      "image/png": "[encoded data removed]",
      "text/plain": [
       "<Figure size 432x288 with 2 Axes>"
      ]
     },
     "metadata": {
      "needs_background": "light"
     },
     "output_type": "display_data"
    },
    {
     "name": "stdout",
     "output_type": "stream",
     "text": [
      "Accuracy =  50.57092108601877\n"
     ]
    }
   ],
   "source": [
    "print(\"Confusion matrix:\")\n",
    "print(cm)\n",
    "\n",
    "plt.figure()\n",
    "plot_confusion_matrix(cm,\n",
    "                      classes = class_names,\n",
    "                      clusters = cluster_names,\n",
    "                      title = 'Binary with Jaccard Similarity ')\n",
    "plt.show()\n",
    "true= (cm[0,0] + cm[1,1])/7882 *100\n",
    "print(\"Accuracy = \",  true)"
   ]
  },
  {
   "cell_type": "code",
   "execution_count": 115,
   "metadata": {},
   "outputs": [],
   "source": [
    "cm=np.array([[1785,2194],[1702,2201]])"
   ]
  },
  {
   "cell_type": "code",
   "execution_count": null,
   "metadata": {},
   "outputs": [],
   "source": []
  },
  {
   "cell_type": "code",
   "execution_count": null,
   "metadata": {},
   "outputs": [],
   "source": []
  },
  {
   "cell_type": "markdown",
   "metadata": {},
   "source": [
    "# binary jaccard kmeans unclean"
   ]
  },
  {
   "cell_type": "code",
   "execution_count": 551,
   "metadata": {},
   "outputs": [
    {
     "name": "stdout",
     "output_type": "stream",
     "text": [
      "Confusion matrix:\n",
      "[[2207 1696]\n",
      " [2191 1788]]\n",
      "Homogeneity score: 0.000\n",
      "Completeness score: 0.000\n",
      "Adjusted rand score: 0.000\n",
      "Adjusted mutual info score: 0.000\n"
     ]
    },
    {
     "name": "stderr",
     "output_type": "stream",
     "text": [
      "/home/jatin/anaconda3/lib/python3.6/site-packages/sklearn/metrics/cluster/supervised.py:732: FutureWarning: The behavior of AMI will change in version 0.22. To match the behavior of 'v_measure_score', AMI will use average_method='arithmetic' by default.\n",
      "  FutureWarning)\n"
     ]
    },
    {
     "data": {
      "image/png": "[encoded data removed]",
      "text/plain": [
       "<Figure size 432x288 with 2 Axes>"
      ]
     },
     "metadata": {
      "needs_background": "light"
     },
     "output_type": "display_data"
    }
   ],
   "source": [
    "print(\"Confusion matrix:\")\n",
    "print(cm)\n",
    "print(\"Homogeneity score: %0.3f\" % metrics.homogeneity_score(labels, km.labels_))\n",
    "print(\"Completeness score: %0.3f\" % metrics.completeness_score(labels, km.labels_))\n",
    "print(\"Adjusted rand score: %.3f\" % metrics.adjusted_rand_score(labels, km.labels_))\n",
    "print(\"Adjusted mutual info score: %0.3f\" % metrics.adjusted_mutual_info_score(labels, km.labels_))\n",
    "\n",
    "plt.figure()\n",
    "plot_confusion_matrix(cm,\n",
    "                      classes = class_names,\n",
    "                      clusters = cluster_names,\n",
    "                      title = 'Confusion matrix')\n",
    "plt.show()\n"
   ]
  },
  {
   "cell_type": "code",
   "execution_count": null,
   "metadata": {},
   "outputs": [],
   "source": []
  },
  {
   "cell_type": "code",
   "execution_count": null,
   "metadata": {},
   "outputs": [],
   "source": []
  },
  {
   "cell_type": "code",
   "execution_count": null,
   "metadata": {},
   "outputs": [],
   "source": []
  },
  {
   "cell_type": "code",
   "execution_count": null,
   "metadata": {},
   "outputs": [],
   "source": []
  },
  {
   "cell_type": "code",
   "execution_count": null,
   "metadata": {},
   "outputs": [],
   "source": []
  },
  {
   "cell_type": "markdown",
   "metadata": {},
   "source": [
    "# count eucldian kmeans unclean"
   ]
  },
  {
   "cell_type": "code",
   "execution_count": 501,
   "metadata": {},
   "outputs": [
    {
     "name": "stdout",
     "output_type": "stream",
     "text": [
      "Confusion matrix:\n",
      "[[3896    7]\n",
      " [3979    0]]\n",
      "Homogeneity score: 0.001\n",
      "Completeness score: 0.088\n",
      "Adjusted rand score: 0.000\n",
      "Adjusted mutual info score: 0.001\n"
     ]
    },
    {
     "name": "stderr",
     "output_type": "stream",
     "text": [
      "/home/jatin/anaconda3/lib/python3.6/site-packages/sklearn/metrics/cluster/supervised.py:732: FutureWarning: The behavior of AMI will change in version 0.22. To match the behavior of 'v_measure_score', AMI will use average_method='arithmetic' by default.\n",
      "  FutureWarning)\n"
     ]
    },
    {
     "data": {
      "image/png": "[encoded data removed]",
      "text/plain": [
       "<Figure size 432x288 with 2 Axes>"
      ]
     },
     "metadata": {
      "needs_background": "light"
     },
     "output_type": "display_data"
    }
   ],
   "source": [
    "print(\"Confusion matrix:\")\n",
    "print(cm)\n",
    "print(\"Homogeneity score: %0.3f\" % metrics.homogeneity_score(labels, km.labels_))\n",
    "print(\"Completeness score: %0.3f\" % metrics.completeness_score(labels, km.labels_))\n",
    "print(\"Adjusted rand score: %.3f\" % metrics.adjusted_rand_score(labels, km.labels_))\n",
    "print(\"Adjusted mutual info score: %0.3f\" % metrics.adjusted_mutual_info_score(labels, km.labels_))\n",
    "\n",
    "plt.figure()\n",
    "plot_confusion_matrix(cm,\n",
    "                      classes = class_names,\n",
    "                      clusters = cluster_names,\n",
    "                      title = 'Confusion matrix')\n",
    "plt.show()\n"
   ]
  },
  {
   "cell_type": "code",
   "execution_count": null,
   "metadata": {},
   "outputs": [],
   "source": []
  },
  {
   "cell_type": "code",
   "execution_count": null,
   "metadata": {},
   "outputs": [],
   "source": []
  },
  {
   "cell_type": "markdown",
   "metadata": {},
   "source": [
    "# count eucledian kmeans clean"
   ]
  },
  {
   "cell_type": "code",
   "execution_count": 118,
   "metadata": {},
   "outputs": [
    {
     "name": "stdout",
     "output_type": "stream",
     "text": [
      "Confusion matrix:\n",
      "[[2313 1666]\n",
      " [2122 1781]]\n"
     ]
    },
    {
     "data": {
      "image/png": "[encoded data removed]",
      "text/plain": [
       "<Figure size 432x288 with 2 Axes>"
      ]
     },
     "metadata": {
      "needs_background": "light"
     },
     "output_type": "display_data"
    },
    {
     "name": "stdout",
     "output_type": "stream",
     "text": [
      "Accuracy =  51.94113169246384\n"
     ]
    }
   ],
   "source": [
    "print(\"Confusion matrix:\")\n",
    "print(cm)\n",
    "\n",
    "plt.figure()\n",
    "plot_confusion_matrix(cm,\n",
    "                      classes = class_names,\n",
    "                      clusters = cluster_names,\n",
    "                      title = 'Count with Euclidean Similarity ')\n",
    "plt.show()\n",
    "true= (cm[0,0] + cm[1,1])/7882 *100\n",
    "print(\"Accuracy = \",  true)"
   ]
  },
  {
   "cell_type": "code",
   "execution_count": 117,
   "metadata": {},
   "outputs": [],
   "source": [
    "cm=np.array([[2313,1666],[2122,1781]])"
   ]
  },
  {
   "cell_type": "code",
   "execution_count": null,
   "metadata": {},
   "outputs": [],
   "source": []
  },
  {
   "cell_type": "markdown",
   "metadata": {},
   "source": [
    "# tfidf eucledian kmeans clean"
   ]
  },
  {
   "cell_type": "code",
   "execution_count": 112,
   "metadata": {},
   "outputs": [
    {
     "name": "stdout",
     "output_type": "stream",
     "text": [
      "Confusion matrix:\n",
      "[[3965   14]\n",
      " [1495 2408]]\n"
     ]
    },
    {
     "data": {
      "image/png": "[encoded data removed]",
      "text/plain": [
       "<Figure size 432x288 with 2 Axes>"
      ]
     },
     "metadata": {
      "needs_background": "light"
     },
     "output_type": "display_data"
    },
    {
     "name": "stdout",
     "output_type": "stream",
     "text": [
      "Accuracy =  80.85511291550368\n"
     ]
    }
   ],
   "source": [
    "print(\"Confusion matrix:\")\n",
    "print(cm)\n",
    "\n",
    "plt.figure()\n",
    "plot_confusion_matrix(cm,\n",
    "                      classes = class_names,\n",
    "                      clusters = cluster_names,\n",
    "                      title = 'TF-IDF with Euclidean Similarity ')\n",
    "plt.show()\n",
    "true= (cm[0,0] + cm[1,1])/7882 *100\n",
    "print(\"Accuracy = \",  true)\n"
   ]
  },
  {
   "cell_type": "code",
   "execution_count": null,
   "metadata": {},
   "outputs": [],
   "source": []
  },
  {
   "cell_type": "code",
   "execution_count": null,
   "metadata": {},
   "outputs": [],
   "source": []
  },
  {
   "cell_type": "code",
   "execution_count": null,
   "metadata": {},
   "outputs": [],
   "source": []
  },
  {
   "cell_type": "code",
   "execution_count": null,
   "metadata": {},
   "outputs": [],
   "source": []
  },
  {
   "cell_type": "markdown",
   "metadata": {},
   "source": [
    "# tfidf eucledian kmeans unclean"
   ]
  },
  {
   "cell_type": "code",
   "execution_count": 110,
   "metadata": {
    "scrolled": false
   },
   "outputs": [
    {
     "name": "stdout",
     "output_type": "stream",
     "text": [
      "Confusion matrix:\n",
      "[[3972    7]\n",
      " [1579 2324]]\n"
     ]
    },
    {
     "data": {
      "image/png": "[encoded data removed]",
      "text/plain": [
       "<Figure size 432x288 with 2 Axes>"
      ]
     },
     "metadata": {
      "needs_background": "light"
     },
     "output_type": "display_data"
    },
    {
     "name": "stdout",
     "output_type": "stream",
     "text": [
      "Accuracy =  79.87820350164932\n"
     ]
    }
   ],
   "source": [
    "print(\"Confusion matrix:\")\n",
    "print(cm)\n",
    "\n",
    "plt.figure()\n",
    "plot_confusion_matrix(cm,\n",
    "                      classes = class_names,\n",
    "                      clusters = cluster_names,\n",
    "                      title = 'TF-IDF with Euclidean Similarity ')\n",
    "plt.show()\n",
    "true= (cm[0,0] + cm[1,1])/7882 *100\n",
    "print(\"Accuracy = \",  true)\n"
   ]
  },
  {
   "cell_type": "code",
   "execution_count": 111,
   "metadata": {},
   "outputs": [],
   "source": [
    "cm=np.array([[3965,14],[1495,2408]])"
   ]
  },
  {
   "cell_type": "code",
   "execution_count": null,
   "metadata": {},
   "outputs": [],
   "source": []
  },
  {
   "cell_type": "markdown",
   "metadata": {},
   "source": [
    "# okapi eucledian kmeans unclean"
   ]
  },
  {
   "cell_type": "code",
   "execution_count": 411,
   "metadata": {
    "scrolled": false
   },
   "outputs": [
    {
     "name": "stdout",
     "output_type": "stream",
     "text": [
      "Confusion matrix:\n",
      "[[1822 2081]\n",
      " [1192 2787]]\n",
      "Homogeneity score: 0.021\n",
      "Completeness score: 0.022\n",
      "Adjusted rand score: 0.029\n",
      "Adjusted mutual info score: 0.021\n"
     ]
    },
    {
     "data": {
      "image/png": "[encoded data removed]",
      "text/plain": [
       "<Figure size 432x288 with 2 Axes>"
      ]
     },
     "metadata": {
      "needs_background": "light"
     },
     "output_type": "display_data"
    }
   ],
   "source": [
    "print(\"Confusion matrix:\")\n",
    "print(cm)\n",
    "print(\"Homogeneity score: %0.3f\" % metrics.homogeneity_score(labels, km.labels_))\n",
    "print(\"Completeness score: %0.3f\" % metrics.completeness_score(labels, km.labels_))\n",
    "print(\"Adjusted rand score: %.3f\" % metrics.adjusted_rand_score(labels, km.labels_))\n",
    "print(\"Adjusted mutual info score: %0.3f\" % metrics.adjusted_mutual_info_score(labels, km.labels_))\n",
    "\n",
    "plt.figure()\n",
    "plot_confusion_matrix(cm,\n",
    "                      classes = class_names,\n",
    "                      clusters = cluster_names,\n",
    "                      title = 'Confusion matrix')\n",
    "plt.show()\n"
   ]
  },
  {
   "cell_type": "code",
   "execution_count": null,
   "metadata": {},
   "outputs": [],
   "source": []
  },
  {
   "cell_type": "code",
   "execution_count": null,
   "metadata": {},
   "outputs": [],
   "source": []
  },
  {
   "cell_type": "code",
   "execution_count": null,
   "metadata": {},
   "outputs": [],
   "source": []
  },
  {
   "cell_type": "markdown",
   "metadata": {},
   "source": [
    "# okapi Eucledian kmeans clear "
   ]
  },
  {
   "cell_type": "code",
   "execution_count": 108,
   "metadata": {
    "scrolled": false
   },
   "outputs": [
    {
     "name": "stdout",
     "output_type": "stream",
     "text": [
      "Confusion matrix:\n",
      "[[2676 1303]\n",
      " [1879 2024]]\n"
     ]
    },
    {
     "data": {
      "image/png": "[encoded data removed]",
      "text/plain": [
       "<Figure size 432x288 with 2 Axes>"
      ]
     },
     "metadata": {
      "needs_background": "light"
     },
     "output_type": "display_data"
    },
    {
     "name": "stdout",
     "output_type": "stream",
     "text": [
      "Accuracy =  59.62953565085004\n"
     ]
    }
   ],
   "source": [
    "print(\"Confusion matrix:\")\n",
    "print(cm)\n",
    "\n",
    "plt.figure()\n",
    "plot_confusion_matrix(cm,\n",
    "                      classes = class_names,\n",
    "                      clusters = cluster_names,\n",
    "                      title = 'Okapi BM-25 with Euclidean Similarity ')\n",
    "plt.show()\n",
    "true= (cm[0,0] + cm[1,1])/7882 *100\n",
    "print(\"Accuracy = \",  true)\n"
   ]
  },
  {
   "cell_type": "code",
   "execution_count": 107,
   "metadata": {},
   "outputs": [],
   "source": [
    "cm=np.array([[2676,1303],[1879,2024]])"
   ]
  },
  {
   "cell_type": "code",
   "execution_count": null,
   "metadata": {},
   "outputs": [],
   "source": []
  },
  {
   "cell_type": "code",
   "execution_count": null,
   "metadata": {},
   "outputs": [],
   "source": []
  },
  {
   "cell_type": "markdown",
   "metadata": {},
   "source": [
    "# binary cosine on clear data"
   ]
  },
  {
   "cell_type": "code",
   "execution_count": 106,
   "metadata": {
    "scrolled": false
   },
   "outputs": [
    {
     "name": "stdout",
     "output_type": "stream",
     "text": [
      "Confusion matrix:\n",
      "[[1314 2665]\n",
      " [ 890 3019]]\n"
     ]
    },
    {
     "data": {
      "image/png": "[encoded data removed]",
      "text/plain": [
       "<Figure size 432x288 with 2 Axes>"
      ]
     },
     "metadata": {
      "needs_background": "light"
     },
     "output_type": "display_data"
    },
    {
     "name": "stdout",
     "output_type": "stream",
     "text": [
      "Accuracy =  54.97335701598579\n"
     ]
    }
   ],
   "source": [
    "print(\"Confusion matrix:\")\n",
    "print(cm)\n",
    "\n",
    "plt.figure()\n",
    "plot_confusion_matrix(cm,\n",
    "                      classes = class_names,\n",
    "                      clusters = cluster_names,\n",
    "                      title = 'Binary Matrix with cosine similarity ')\n",
    "plt.show()\n",
    "true= (cm[0,0] + cm[1,1])/7882 *100\n",
    "print(\"Accuracy = \",  true)"
   ]
  },
  {
   "cell_type": "code",
   "execution_count": 105,
   "metadata": {},
   "outputs": [],
   "source": [
    "cm=np.array([[1314,2665],[890,3019]])"
   ]
  },
  {
   "cell_type": "code",
   "execution_count": null,
   "metadata": {},
   "outputs": [],
   "source": []
  },
  {
   "cell_type": "markdown",
   "metadata": {},
   "source": [
    "# binary cosine on unclear data"
   ]
  },
  {
   "cell_type": "code",
   "execution_count": 293,
   "metadata": {
    "scrolled": false
   },
   "outputs": [
    {
     "name": "stdout",
     "output_type": "stream",
     "text": [
      "Confusion matrix:\n",
      "[[3012  891]\n",
      " [2591 1388]]\n",
      "Homogeneity score: 0.013\n",
      "Completeness score: 0.015\n",
      "Adjusted rand score: 0.013\n",
      "Adjusted mutual info score: 0.013\n"
     ]
    },
    {
     "data": {
      "image/png": "[encoded data removed]",
      "text/plain": [
       "<Figure size 432x288 with 2 Axes>"
      ]
     },
     "metadata": {
      "needs_background": "light"
     },
     "output_type": "display_data"
    }
   ],
   "source": [
    "print(\"Confusion matrix:\")\n",
    "print(cm)\n",
    "print(\"Homogeneity score: %0.3f\" % metrics.homogeneity_score(labels, km.labels_))\n",
    "print(\"Completeness score: %0.3f\" % metrics.completeness_score(labels, km.labels_))\n",
    "print(\"Adjusted rand score: %.3f\" % metrics.adjusted_rand_score(labels, km.labels_))\n",
    "print(\"Adjusted mutual info score: %0.3f\" % metrics.adjusted_mutual_info_score(labels, km.labels_))\n",
    "\n",
    "plt.figure()\n",
    "plot_confusion_matrix(cm,\n",
    "                      classes = class_names,\n",
    "                      clusters = cluster_names,\n",
    "                      title = 'Confusion matrix')\n",
    "plt.show()\n"
   ]
  },
  {
   "cell_type": "code",
   "execution_count": null,
   "metadata": {},
   "outputs": [],
   "source": []
  },
  {
   "cell_type": "code",
   "execution_count": null,
   "metadata": {},
   "outputs": [],
   "source": []
  },
  {
   "cell_type": "markdown",
   "metadata": {},
   "source": [
    "# count cosine on unclear data"
   ]
  },
  {
   "cell_type": "code",
   "execution_count": 267,
   "metadata": {
    "scrolled": false
   },
   "outputs": [
    {
     "name": "stdout",
     "output_type": "stream",
     "text": [
      "Confusion matrix:\n",
      "[[3013  890]\n",
      " [2665 1314]]\n",
      "Homogeneity score: 0.009\n",
      "Completeness score: 0.011\n",
      "Adjusted rand score: 0.009\n",
      "Adjusted mutual info score: 0.009\n"
     ]
    },
    {
     "data": {
      "image/png": "[encoded data removed]",
      "text/plain": [
       "<Figure size 432x288 with 2 Axes>"
      ]
     },
     "metadata": {
      "needs_background": "light"
     },
     "output_type": "display_data"
    }
   ],
   "source": [
    "print(\"Confusion matrix:\")\n",
    "print(cm)\n",
    "print(\"Homogeneity score: %0.3f\" % metrics.homogeneity_score(labels, km.labels_))\n",
    "print(\"Completeness score: %0.3f\" % metrics.completeness_score(labels, km.labels_))\n",
    "print(\"Adjusted rand score: %.3f\" % metrics.adjusted_rand_score(labels, km.labels_))\n",
    "print(\"Adjusted mutual info score: %0.3f\" % metrics.adjusted_mutual_info_score(labels, km.labels_))\n",
    "\n",
    "plt.figure()\n",
    "plot_confusion_matrix(cm,\n",
    "                      classes = class_names,\n",
    "                      clusters = cluster_names,\n",
    "                      title = 'Confusion matrix')\n",
    "plt.show()\n"
   ]
  },
  {
   "cell_type": "code",
   "execution_count": null,
   "metadata": {},
   "outputs": [],
   "source": []
  },
  {
   "cell_type": "code",
   "execution_count": null,
   "metadata": {},
   "outputs": [],
   "source": []
  },
  {
   "cell_type": "markdown",
   "metadata": {},
   "source": [
    "# Count matrix on cosine on clear"
   ]
  },
  {
   "cell_type": "code",
   "execution_count": 104,
   "metadata": {
    "scrolled": false
   },
   "outputs": [
    {
     "name": "stdout",
     "output_type": "stream",
     "text": [
      "Confusion matrix:\n",
      "[[1579 2400]\n",
      " [  56 3847]]\n"
     ]
    },
    {
     "data": {
      "image/png": "[encoded data removed]",
      "text/plain": [
       "<Figure size 432x288 with 2 Axes>"
      ]
     },
     "metadata": {
      "needs_background": "light"
     },
     "output_type": "display_data"
    },
    {
     "name": "stdout",
     "output_type": "stream",
     "text": [
      "Accuracy =  68.84039583861964\n"
     ]
    }
   ],
   "source": [
    "print(\"Confusion matrix:\")\n",
    "print(cm)\n",
    "\n",
    "plt.figure()\n",
    "plot_confusion_matrix(cm,\n",
    "                      classes = class_names,\n",
    "                      clusters = cluster_names,\n",
    "                      title = 'Count Matrix with cosine similarity ')\n",
    "plt.show()\n",
    "true= (cm[0,0] + cm[1,1])/7882 *100\n",
    "print(\"Accuracy = \",  true)"
   ]
  },
  {
   "cell_type": "code",
   "execution_count": 103,
   "metadata": {},
   "outputs": [],
   "source": [
    "cm=np.array([[1579,2400],[56,3847]])"
   ]
  },
  {
   "cell_type": "code",
   "execution_count": 101,
   "metadata": {},
   "outputs": [],
   "source": [
    "cm=np.array([[3847,56], [1579,2400]])"
   ]
  },
  {
   "cell_type": "markdown",
   "metadata": {},
   "source": [
    "# bm25 cosine on clear data"
   ]
  },
  {
   "cell_type": "code",
   "execution_count": 98,
   "metadata": {
    "scrolled": false
   },
   "outputs": [
    {
     "name": "stdout",
     "output_type": "stream",
     "text": [
      "Confusion matrix:\n",
      "[[3922   57]\n",
      " [ 705 3198]]\n"
     ]
    },
    {
     "data": {
      "image/png": "[encoded data removed]",
      "text/plain": [
       "<Figure size 432x288 with 2 Axes>"
      ]
     },
     "metadata": {
      "needs_background": "light"
     },
     "output_type": "display_data"
    },
    {
     "name": "stdout",
     "output_type": "stream",
     "text": [
      "Accuracy =  90.33240294341537\n"
     ]
    }
   ],
   "source": [
    "print(\"Confusion matrix:\")\n",
    "print(cm)\n",
    "\n",
    "plt.figure()\n",
    "plot_confusion_matrix(cm,\n",
    "                      classes = class_names,\n",
    "                      clusters = cluster_names,\n",
    "                      title = 'Okapi_BM25 with cosine similarity ')\n",
    "plt.show()\n",
    "true= (cm[0,0] + cm[1,1])/7882 *100\n",
    "print(\"Accuracy = \",  true)\n",
    "\n"
   ]
  },
  {
   "cell_type": "code",
   "execution_count": 97,
   "metadata": {},
   "outputs": [],
   "source": [
    "cm=np.array([[3922,57], [705,3198]])"
   ]
  },
  {
   "cell_type": "code",
   "execution_count": null,
   "metadata": {},
   "outputs": [],
   "source": []
  },
  {
   "cell_type": "code",
   "execution_count": null,
   "metadata": {},
   "outputs": [],
   "source": []
  },
  {
   "cell_type": "markdown",
   "metadata": {},
   "source": [
    "# tfidf cosine on clear data"
   ]
  },
  {
   "cell_type": "code",
   "execution_count": 96,
   "metadata": {},
   "outputs": [
    {
     "name": "stdout",
     "output_type": "stream",
     "text": [
      "Confusion matrix:\n",
      "[[3957   22]\n",
      " [1227 2677]]\n"
     ]
    },
    {
     "data": {
      "image/png": "[encoded data removed]",
      "text/plain": [
       "<Figure size 432x288 with 2 Axes>"
      ]
     },
     "metadata": {
      "needs_background": "light"
     },
     "output_type": "display_data"
    },
    {
     "name": "stdout",
     "output_type": "stream",
     "text": [
      "Accuracy =  84.16645521441258\n"
     ]
    }
   ],
   "source": [
    "print(\"Confusion matrix:\")\n",
    "print(cm)\n",
    "\n",
    "plt.figure()\n",
    "plot_confusion_matrix(cm,\n",
    "                      classes = class_names,\n",
    "                      clusters = cluster_names,\n",
    "                      title = 'TF-IDF with cosine similarity')\n",
    "plt.show()\n",
    "true= (cm[0,0] + cm[1,1])/7882 *100\n",
    "print(\"Accuracy = \",  true)\n"
   ]
  },
  {
   "cell_type": "code",
   "execution_count": 95,
   "metadata": {},
   "outputs": [],
   "source": [
    "cm=np.array([[3957,22],[1227,2677]])"
   ]
  },
  {
   "cell_type": "code",
   "execution_count": null,
   "metadata": {},
   "outputs": [],
   "source": [
    "print(\"Confusion matrix:\")\n",
    "print(cm)\n",
    "\n",
    "plt.figure()\n",
    "plot_confusion_matrix(cm,\n",
    "                      classes = class_names,\n",
    "                      clusters = cluster_names,\n",
    "                      title = 'Okapi_BM25 on cosine similarity on unclean data')\n",
    "plt.show()\n",
    "true= (cm[0,0] + cm[1,1])/7882 *100\n",
    "print(\"Accuracy = \",  true)"
   ]
  },
  {
   "cell_type": "markdown",
   "metadata": {},
   "source": [
    "# bm25 with cosine similarity on unclear data"
   ]
  },
  {
   "cell_type": "code",
   "execution_count": 93,
   "metadata": {
    "scrolled": false
   },
   "outputs": [
    {
     "name": "stdout",
     "output_type": "stream",
     "text": [
      "Confusion matrix:\n",
      "[[3920   59]\n",
      " [ 418 3485]]\n"
     ]
    },
    {
     "data": {
      "image/png": "[encoded data removed]",
      "text/plain": [
       "<Figure size 432x288 with 2 Axes>"
      ]
     },
     "metadata": {
      "needs_background": "light"
     },
     "output_type": "display_data"
    },
    {
     "name": "stdout",
     "output_type": "stream",
     "text": [
      "Accuracy =  93.94823648820096\n"
     ]
    }
   ],
   "source": [
    "print(\"Confusion matrix:\")\n",
    "print(cm)\n",
    "\n",
    "plt.figure()\n",
    "plot_confusion_matrix(cm,\n",
    "                      classes = class_names,\n",
    "                      clusters = cluster_names,\n",
    "                      title = 'Okapi_BM25 on cosine similarity on unclean data')\n",
    "plt.show()\n",
    "true= (cm[0,0] + cm[1,1])/7882 *100\n",
    "print(\"Accuracy = \",  true)\n"
   ]
  },
  {
   "cell_type": "code",
   "execution_count": 92,
   "metadata": {},
   "outputs": [],
   "source": [
    "cm=np.array([[3920,59], [418,3485]])"
   ]
  },
  {
   "cell_type": "markdown",
   "metadata": {},
   "source": [
    "# Tfidf and cosine similarity on unclear data"
   ]
  },
  {
   "cell_type": "code",
   "execution_count": 85,
   "metadata": {
    "scrolled": false
   },
   "outputs": [
    {
     "name": "stdout",
     "output_type": "stream",
     "text": [
      "Confusion matrix:\n",
      "[[3969   10]\n",
      " [1513 2390]]\n"
     ]
    },
    {
     "data": {
      "image/png": "[encoded data removed]",
      "text/plain": [
       "<Figure size 432x288 with 2 Axes>"
      ]
     },
     "metadata": {
      "needs_background": "light"
     },
     "output_type": "display_data"
    },
    {
     "name": "stdout",
     "output_type": "stream",
     "text": [
      "Accuracy =  80.67749302207562\n"
     ]
    }
   ],
   "source": [
    "print(\"Confusion matrix:\")\n",
    "print(cm)\n",
    "\n",
    "plt.figure()\n",
    "plot_confusion_matrix(cm,\n",
    "                      classes = class_names,\n",
    "                      clusters = cluster_names,\n",
    "                      title = 'TF-IDF on cosine similarity on unclean data')\n",
    "plt.show()\n",
    "true= (cm[0,0] + cm[1,1])/7882 *100\n",
    "print(\"Accuracy = \",  true)"
   ]
  },
  {
   "cell_type": "code",
   "execution_count": null,
   "metadata": {},
   "outputs": [],
   "source": []
  },
  {
   "cell_type": "code",
   "execution_count": null,
   "metadata": {},
   "outputs": [],
   "source": []
  },
  {
   "cell_type": "code",
   "execution_count": null,
   "metadata": {},
   "outputs": [],
   "source": []
  },
  {
   "cell_type": "code",
   "execution_count": null,
   "metadata": {},
   "outputs": [],
   "source": []
  },
  {
   "cell_type": "code",
   "execution_count": null,
   "metadata": {},
   "outputs": [],
   "source": []
  },
  {
   "cell_type": "code",
   "execution_count": 80,
   "metadata": {},
   "outputs": [],
   "source": [
    "cm=np.array([[3969 ,10] , [1513,2390]])"
   ]
  },
  {
   "cell_type": "code",
   "execution_count": null,
   "metadata": {},
   "outputs": [],
   "source": []
  },
  {
   "cell_type": "code",
   "execution_count": 424,
   "metadata": {},
   "outputs": [
    {
     "data": {
      "text/plain": [
       "(2, 2)"
      ]
     },
     "execution_count": 424,
     "metadata": {},
     "output_type": "execute_result"
    }
   ],
   "source": [
    "np.shape(h)"
   ]
  },
  {
   "cell_type": "code",
   "execution_count": null,
   "metadata": {},
   "outputs": [],
   "source": []
  },
  {
   "cell_type": "code",
   "execution_count": 425,
   "metadata": {},
   "outputs": [
    {
     "data": {
      "text/plain": [
       "array([[3857,   58],\n",
       "       [ 122, 3845]])"
      ]
     },
     "execution_count": 425,
     "metadata": {},
     "output_type": "execute_result"
    }
   ],
   "source": [
    "h"
   ]
  },
  {
   "cell_type": "code",
   "execution_count": null,
   "metadata": {},
   "outputs": [],
   "source": []
  }
 ],
 "metadata": {
  "kernelspec": {
   "display_name": "Python 3",
   "language": "python",
   "name": "python3"
  },
  "language_info": {
   "codemirror_mode": {
    "name": "ipython",
    "version": 3
   },
   "file_extension": ".py",
   "mimetype": "text/x-python",
   "name": "python",
   "nbconvert_exporter": "python",
   "pygments_lexer": "ipython3",
   "version": "3.7.4"
  }
 },
 "nbformat": 4,
 "nbformat_minor": 2
}
