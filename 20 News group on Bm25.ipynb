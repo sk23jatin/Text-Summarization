{
 "cells": [
  {
   "cell_type": "code",
   "execution_count": 200,
   "metadata": {},
   "outputs": [],
   "source": [
    "from __future__ import print_function\n",
    "from sklearn.datasets import fetch_20newsgroups\n",
    "from sklearn.feature_extraction.text import TfidfVectorizer, CountVectorizer\n",
    "from time import time\n",
    "import numpy as np\n",
    "from sklearn import metrics\n",
    "from sklearn.cluster import KMeans\n",
    "from sklearn.cluster import MiniBatchKMeans\n",
    "import matplotlib.pyplot as plt\n",
    "from mpl_toolkits.mplot3d import Axes3D\n",
    "from scipy.sparse import coo_matrix\n",
    "from time import time\n",
    "import numpy as np\n",
    "import matplotlib.pyplot as plt\n",
    "import math\n",
    "from sklearn import metrics\n",
    "from sklearn.cluster import KMeans\n",
    "from sklearn.datasets import load_digits\n",
    "from sklearn.decomposition import PCA\n",
    "from sklearn.preprocessing import scale\n",
    "from nltk.tokenize import sent_tokenize, word_tokenize\n",
    "import pandas as pd\n",
    "import numpy as np\n",
    "import matplotlib.pyplot as plt\n",
    "import seaborn as sns\n",
    "import nltk\n",
    "import re\n",
    "from nltk.tokenize import sent_tokenize, word_tokenize\n",
    "from gensim.summarization.bm25 import get_bm25_weights\n",
    "from nltk.stem import PorterStemmer \n",
    "from nltk.corpus import stopwords \n",
    "import sklearn\n",
    "import math\n",
    "from sklearn.cluster import KMeans"
   ]
  },
  {
   "cell_type": "code",
   "execution_count": 225,
   "metadata": {},
   "outputs": [],
   "source": [
    "\n",
    "categories = ['comp.graphics',\n",
    "              'comp.os.ms-windows.misc',\n",
    "              'comp.sys.ibm.pc.hardware',\n",
    "              'comp.sys.mac.hardware',\n",
    "              'rec.autos',\n",
    "              'rec.motorcycles',\n",
    "              'rec.sport.baseball',\n",
    "              'rec.sport.hockey']\n"
   ]
  },
  {
   "cell_type": "code",
   "execution_count": 226,
   "metadata": {},
   "outputs": [],
   "source": [
    "\n",
    "dataset = fetch_20newsgroups(subset = 'all',\n",
    "                             categories = categories,\n",
    "                             shuffle = True,\n",
    "                             random_state = 42)\n",
    "\n"
   ]
  },
  {
   "cell_type": "code",
   "execution_count": 203,
   "metadata": {},
   "outputs": [
    {
     "data": {
      "text/plain": [
       "str"
      ]
     },
     "execution_count": 203,
     "metadata": {},
     "output_type": "execute_result"
    }
   ],
   "source": [
    "type(dataset.data[0])"
   ]
  },
  {
   "cell_type": "code",
   "execution_count": 10,
   "metadata": {},
   "outputs": [],
   "source": [
    "data=dataset.data"
   ]
  },
  {
   "cell_type": "code",
   "execution_count": 11,
   "metadata": {},
   "outputs": [],
   "source": [
    "\n",
    "#splitting the documents into list of sentences.\n",
    "sentences = data\n",
    "\n",
    "# for i in data:\n",
    "#     sub_sentence=[]\n",
    "#     sub_sentence.append(sent_tokenize(i))\n",
    "#     sub_sentence = [y for x in sub_sentence for y in x] # flatten list\n",
    "#     sentences.append(sub_sentence)"
   ]
  },
  {
   "cell_type": "code",
   "execution_count": 12,
   "metadata": {
    "scrolled": true
   },
   "outputs": [
    {
     "data": {
      "text/plain": [
       "(7882,)"
      ]
     },
     "execution_count": 12,
     "metadata": {},
     "output_type": "execute_result"
    }
   ],
   "source": [
    "word_sentence=[]\n",
    "\n",
    "for i in sentences:\n",
    "    word_sentence.append(word_tokenize(i))\n",
    "np.shape(word_sentence)"
   ]
  },
  {
   "cell_type": "code",
   "execution_count": 13,
   "metadata": {},
   "outputs": [],
   "source": [
    "#removal of stop words\n",
    "stop_words = set(stopwords.words('english')) \n",
    "line=[]\n",
    "filtered_sentence=[]\n",
    "\n",
    "for i in word_sentence:\n",
    "    for j in i:\n",
    "        if not j in stop_words:\n",
    "            line.append(j)\n",
    "    filtered_sentence.append(line)\n",
    "    line=[]\n",
    "\n"
   ]
  },
  {
   "cell_type": "code",
   "execution_count": 14,
   "metadata": {},
   "outputs": [],
   "source": [
    "#stemming the words\n",
    "from nltk.stem import PorterStemmer \n",
    "ps = PorterStemmer()\n",
    "stemmed_sentences=[]\n",
    "line=[]\n",
    "for i in filtered_sentence:\n",
    "    for j in i:\n",
    "       line.append(ps.stem(j))\n",
    "    stemmed_sentences.append(line)\n",
    "    line=[]"
   ]
  },
  {
   "cell_type": "code",
   "execution_count": 15,
   "metadata": {},
   "outputs": [],
   "source": [
    "# remove punctuations, numbers and special characters\n",
    "alphabetic_sentences=[]\n",
    "line=[]\n",
    "for i in stemmed_sentences:\n",
    "    line.append(pd.Series(i).str.replace(\"[^a-zA-Z]\", \" \"))\n",
    "    \n",
    "    \n",
    "    alphabetic_sentences.append(line)\n",
    "    line=[]"
   ]
  },
  {
   "cell_type": "code",
   "execution_count": 16,
   "metadata": {},
   "outputs": [
    {
     "data": {
      "text/plain": [
       "(1, 346)"
      ]
     },
     "execution_count": 16,
     "metadata": {},
     "output_type": "execute_result"
    }
   ],
   "source": [
    "np.shape(alphabetic_sentences[0])"
   ]
  },
  {
   "cell_type": "code",
   "execution_count": 17,
   "metadata": {},
   "outputs": [],
   "source": [
    "line = []\n",
    "\n",
    "for i in alphabetic_sentences:\n",
    "   \n",
    "    for j in i:\n",
    "        l=[]\n",
    "        for x in j.values:\n",
    "            if (not x ==' ' ):\n",
    "                l.append(x.lower())\n",
    "        line.append(l)\n"
   ]
  },
  {
   "cell_type": "code",
   "execution_count": 23,
   "metadata": {},
   "outputs": [
    {
     "data": {
      "text/plain": [
       "(7882,)"
      ]
     },
     "execution_count": 23,
     "metadata": {},
     "output_type": "execute_result"
    }
   ],
   "source": [
    "final=[]\n",
    "for i in line:\n",
    "    a=\"\"\n",
    "    for j in i:\n",
    "        a=a + \" \" + j\n",
    "    final.append(a)\n",
    "np.shape(final)"
   ]
  },
  {
   "cell_type": "code",
   "execution_count": 248,
   "metadata": {},
   "outputs": [
    {
     "data": {
      "text/plain": [
       "' from jim n ial mythical com jim graham subject re possibl faq question uart keyword       organ me joke line    thought i  d post e mail case interest info        in articl     apr                henson cc wwu edu n        henson cc wwu edu dan jordan write hello question e mail name manufactur       predecsor uart i refer number find technic manual ic find technic spec uart appreci prefer             i suggest direct origin prefer     qualiti sourc chip nation semiconductor reach                 longer packag data sheet book i mine individu set data sheet minimum set data sheet ns      ins    a ns  c    ins  c  a ns     af applic note get these an     the ns     a uart design applic consider an     a comparison ins     ns      ns     af seri uart applic note i list proven at least valuabl data sheet an     except well written applic note detail       advantag btw send free long n t abus    jim    includ std disclaimer h    de n ial                                                                                                                         internet jim n ial mythical com j graham ieee org icbm      n      w amateur radio n ial w zbb ft  walton beach fl amtor selcal nial                                                                                                                      e mail inform kamterm host mode kantron tnc'"
      ]
     },
     "execution_count": 248,
     "metadata": {},
     "output_type": "execute_result"
    }
   ],
   "source": [
    "(final[0])"
   ]
  },
  {
   "cell_type": "code",
   "execution_count": 322,
   "metadata": {},
   "outputs": [],
   "source": [
    "vectorizer=CountVectorizer(max_df = 0.4,\n",
    "                             max_features = 100000,\n",
    "                             min_df = 2,\n",
    "                             stop_words = 'english'\n",
    "                             \n",
    "                          )\n",
    "\n",
    "X = vectorizer.fit_transform(final)\n"
   ]
  },
  {
   "cell_type": "code",
   "execution_count": 325,
   "metadata": {
    "scrolled": true
   },
   "outputs": [
    {
     "name": "stdout",
     "output_type": "stream",
     "text": [
      "  (0, 23418)\t2.3457840518561612\n",
      "  (0, 11908)\t2.3457840518561612\n",
      "  (0, 14868)\t1.0371257965645275\n",
      "  (0, 11899)\t2.3457840518561612\n",
      "  (0, 10809)\t0.8034544903756332\n",
      "  (0, 15858)\t2.3457840518561612\n",
      "  (0, 20728)\t2.3457840518561612\n",
      "  (0, 704)\t2.3457840518561612\n",
      "  (0, 7769)\t1.4746277782160409\n",
      "  (0, 1743)\t1.6387565469729966\n",
      "  (0, 25335)\t2.196043167048047\n",
      "  (0, 8190)\t1.599696039676282\n",
      "  (0, 26593)\t2.3457840518561612\n",
      "  (0, 18880)\t1.2796406428919513\n",
      "  (0, 642)\t1.9041173681930474\n",
      "  (0, 10428)\t2.2876972849992065\n",
      "  (0, 16672)\t0.964360920125249\n",
      "  (0, 10487)\t1.8595898888045534\n",
      "  (0, 10992)\t0.8296695316347699\n",
      "  (0, 5763)\t2.041362723339396\n",
      "  (0, 22089)\t1.2887439812610422\n",
      "  (0, 10716)\t0.8588349110823906\n",
      "  (0, 89)\t1.9204591638907549\n",
      "  (0, 13289)\t0.824788829368998\n",
      "  (0, 8096)\t1.0005336200489887\n",
      "  :\t:\n",
      "  (7881, 21415)\t1.4225296741674966\n",
      "  (7881, 3366)\t2.3932443943604027\n",
      "  (7881, 21150)\t2.6807798065617146\n",
      "  (7881, 16978)\t3.073451464534326\n",
      "  (7881, 17906)\t2.1269950415668246\n",
      "  (7881, 190)\t1.5649566419621894\n",
      "  (7881, 3538)\t1.9648035308026213\n",
      "  (7881, 21040)\t1.9032197924874457\n",
      "  (7881, 25352)\t1.3457366901594672\n",
      "  (7881, 9808)\t1.2393094031763598\n",
      "  (7881, 2464)\t1.470107189059146\n",
      "  (7881, 4537)\t1.4043043103234145\n",
      "  (7881, 4593)\t2.9289818900522135\n",
      "  (7881, 13044)\t2.124802542730987\n",
      "  (7881, 17572)\t1.8193559419776875\n",
      "  (7881, 24571)\t0.8961563971530977\n",
      "  (7881, 22201)\t2.0062204250834745\n",
      "  (7881, 23457)\t1.518324365625263\n",
      "  (7881, 26376)\t0.8337528300323467\n",
      "  (7881, 9110)\t1.2270662425878978\n",
      "  (7881, 23892)\t1.7194673497696398\n",
      "  (7881, 5854)\t0.6631916253752174\n",
      "  (7881, 1132)\t1.5559509901522972\n",
      "  (7881, 23238)\t1.2437634151272008\n",
      "  (7881, 4120)\t0.6035383789655842\n"
     ]
    }
   ],
   "source": [
    "print(X)"
   ]
  },
  {
   "cell_type": "code",
   "execution_count": 301,
   "metadata": {},
   "outputs": [
    {
     "data": {
      "text/plain": [
       "array([0, 1])"
      ]
     },
     "execution_count": 301,
     "metadata": {},
     "output_type": "execute_result"
    }
   ],
   "source": [
    "np.unique(dataset.target)"
   ]
  },
  {
   "cell_type": "code",
   "execution_count": 324,
   "metadata": {},
   "outputs": [],
   "source": [
    "\n",
    "X = coo_matrix(X)\n",
    "N = float(X.shape[0])\n",
    "idf = np.log(N / (np.bincount(X.col)))\n",
    "\n",
    "# calculate length_norm per document (artist)\n",
    "row_sums = np.ravel(X.sum(axis=1))\n",
    "\n",
    "average_length = row_sums.mean()\n",
    "length_norm = (0.5) + 1.5 * row_sums / average_length\n",
    "X.data = X.data  / (length_norm[X.row] + X.data) * idf[X.col]"
   ]
  },
  {
   "cell_type": "code",
   "execution_count": 231,
   "metadata": {},
   "outputs": [],
   "source": [
    "# Plot information\n",
    "def plot_confusion_matrix(cm, classes, clusters, title = ''):\n",
    "    plt.imshow(cm, interpolation = 'nearest', cmap = plt.cm.Blues)\n",
    "    plt.title(title)\n",
    "    plt.colorbar()\n",
    "    xtick_marks = np.arange(len(clusters))\n",
    "    ytick_marks = np.arange(len(classes))\n",
    "    plt.xticks(xtick_marks, clusters, rotation = 45)\n",
    "    plt.yticks(ytick_marks, classes)\n",
    "    plt.xlabel('Predicted Label')\n",
    "    plt.ylabel('True Label')"
   ]
  },
  {
   "cell_type": "code",
   "execution_count": 232,
   "metadata": {},
   "outputs": [
    {
     "data": {
      "text/plain": [
       "3903"
      ]
     },
     "execution_count": 232,
     "metadata": {},
     "output_type": "execute_result"
    }
   ],
   "source": [
    "size = dataset.target.shape[0]\n",
    "labels = dataset.target\n",
    "\n",
    "count=0\n",
    "for i in range(0, size):\n",
    "    if(dataset.target[i] <= 3):\n",
    "        labels[i] = 0\n",
    "        count+=1\n",
    "    else:\n",
    "        labels[i] = 1\n",
    "        \n",
    "count"
   ]
  },
  {
   "cell_type": "code",
   "execution_count": 196,
   "metadata": {},
   "outputs": [],
   "source": [
    "\n",
    "        \n",
    "class_names = ['Computer technology', 'Recreational activity']\n",
    "kvalue = 2\n",
    "cluster_names = []\n",
    "for i in range(kvalue):\n",
    "    cluster_names.append(\"cluster %d\" % i)\n",
    "\n"
   ]
  },
  {
   "cell_type": "code",
   "execution_count": 407,
   "metadata": {},
   "outputs": [
    {
     "data": {
      "text/plain": [
       "(26832,)"
      ]
     },
     "execution_count": 407,
     "metadata": {},
     "output_type": "execute_result"
    }
   ],
   "source": [
    "# K-Means clustering with k = kvalue = 2\n",
    "km = KMeans(n_clusters = kvalue, init = 'k-means++', max_iter = 100, n_init = 1, verbose = False)\n",
    "\n",
    "km.fit(X)\n",
    "order_centroids = km.cluster_centers_.argsort()[:, ::-1]\n",
    "terms = vectorizer.get_feature_names()\n",
    "cm = metrics.confusion_matrix(labels, km.labels_)\n",
    "\n",
    "\n",
    "np.shape(terms)"
   ]
  },
  {
   "cell_type": "code",
   "execution_count": 408,
   "metadata": {},
   "outputs": [
    {
     "name": "stdout",
     "output_type": "stream",
     "text": [
      "Top 10 terms per cluster:\n",
      "Cluster 0: game car com year team ca apr play player bike\n",
      "Cluster 1: window file thank card problem comput program mac work com\n"
     ]
    }
   ],
   "source": [
    "\n",
    "print(\"Top 10 terms per cluster:\")\n",
    "for i in range(kvalue):\n",
    "    print(\"Cluster %d:\" % i, end='')\n",
    "    for j in order_centroids[i, :10]:\n",
    "        print(' %s' % terms[j], end='')\n",
    "    print()\n"
   ]
  },
  {
   "cell_type": "code",
   "execution_count": 426,
   "metadata": {},
   "outputs": [
    {
     "name": "stdout",
     "output_type": "stream",
     "text": [
      "Confusion matrix:\n",
      "[[3857   58]\n",
      " [ 122 3845]]\n",
      "Homogeneity score: 0.845\n",
      "Completeness score: 0.845\n",
      "Adjusted rand score: 0.911\n",
      "Adjusted mutual info score: 0.845\n"
     ]
    },
    {
     "data": {
      "image/png": "[encoded data removed]",
      "text/plain": [
       "<Figure size 432x288 with 2 Axes>"
      ]
     },
     "metadata": {
      "needs_background": "light"
     },
     "output_type": "display_data"
    }
   ],
   "source": [
    "print(\"Confusion matrix:\")\n",
    "print(cm)\n",
    "print(\"Homogeneity score: %0.3f\" % metrics.homogeneity_score(labels, km.labels_))\n",
    "print(\"Completeness score: %0.3f\" % metrics.completeness_score(labels, km.labels_))\n",
    "print(\"Adjusted rand score: %.3f\" % metrics.adjusted_rand_score(labels, km.labels_))\n",
    "print(\"Adjusted mutual info score: %0.3f\" % metrics.adjusted_mutual_info_score(labels, km.labels_))\n",
    "\n",
    "plt.figure()\n",
    "plot_confusion_matrix(cm,\n",
    "                      classes = class_names,\n",
    "                      clusters = cluster_names,\n",
    "                      title = 'Confusion matrix')\n",
    "plt.show()\n",
    "\n"
   ]
  },
  {
   "cell_type": "code",
   "execution_count": 423,
   "metadata": {},
   "outputs": [],
   "source": [
    "cm=np.array([[cm[1,0] ,cm[0,0]] , [cm[1,1] ,cm[0,1]]])"
   ]
  },
  {
   "cell_type": "code",
   "execution_count": null,
   "metadata": {},
   "outputs": [],
   "source": []
  },
  {
   "cell_type": "code",
   "execution_count": 424,
   "metadata": {},
   "outputs": [
    {
     "data": {
      "text/plain": [
       "(2, 2)"
      ]
     },
     "execution_count": 424,
     "metadata": {},
     "output_type": "execute_result"
    }
   ],
   "source": [
    "np.shape(h)"
   ]
  },
  {
   "cell_type": "code",
   "execution_count": null,
   "metadata": {},
   "outputs": [],
   "source": []
  },
  {
   "cell_type": "code",
   "execution_count": 425,
   "metadata": {},
   "outputs": [
    {
     "data": {
      "text/plain": [
       "array([[3857,   58],\n",
       "       [ 122, 3845]])"
      ]
     },
     "execution_count": 425,
     "metadata": {},
     "output_type": "execute_result"
    }
   ],
   "source": [
    "h"
   ]
  },
  {
   "cell_type": "code",
   "execution_count": null,
   "metadata": {},
   "outputs": [],
   "source": []
  }
 ],
 "metadata": {
  "kernelspec": {
   "display_name": "Python 3",
   "language": "python",
   "name": "python3"
  },
  "language_info": {
   "codemirror_mode": {
    "name": "ipython",
    "version": 3
   },
   "file_extension": ".py",
   "mimetype": "text/x-python",
   "name": "python",
   "nbconvert_exporter": "python",
   "pygments_lexer": "ipython3",
   "version": "3.6.6"
  }
 },
 "nbformat": 4,
 "nbformat_minor": 2
}
